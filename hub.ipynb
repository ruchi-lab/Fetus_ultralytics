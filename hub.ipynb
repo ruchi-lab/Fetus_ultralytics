{
  "cells": [
    {
      "cell_type": "markdown",
      "metadata": {
        "id": "view-in-github",
        "colab_type": "text"
      },
      "source": [
        "<a href=\"https://colab.research.google.com/github/ruchi-lab/Fetus_ultralytics/blob/main/hub.ipynb\" target=\"_parent\"><img src=\"https://colab.research.google.com/assets/colab-badge.svg\" alt=\"Open In Colab\"/></a>"
      ]
    },
    {
      "cell_type": "markdown",
      "metadata": {
        "id": "FIzICjaph_Wy"
      },
      "source": [
        "<a align=\"center\" href=\"https://ultralytics.com/hub\" target=\"_blank\">\n",
        "<img width=\"1024\", src=\"https://github.com/ultralytics/assets/raw/main/im/ultralytics-hub.png\"></a>\n",
        "\n",
        "<div align=\"center\">\n",
        "\n",
        "[中文](https://docs.ultralytics.com/zh/hub/) | [한국어](https://docs.ultralytics.com/ko/hub/) | [日本語](https://docs.ultralytics.com/ja/hub/) | [Русский](https://docs.ultralytics.com/ru/hub/) | [Deutsch](https://docs.ultralytics.com/de/hub/) | [Français](https://docs.ultralytics.com/fr/hub/) | [Español](https://docs.ultralytics.com/es/hub/) | [Português](https://docs.ultralytics.com/pt/hub/) | [Türkçe](https://docs.ultralytics.com/tr/hub/) | [Tiếng Việt](https://docs.ultralytics.com/vi/hub/) | [العربية](https://docs.ultralytics.com/ar/hub/)\n",
        "\n",
        "  <a href=\"https://github.com/ultralytics/hub/actions/workflows/ci.yaml\"><img src=\"https://github.com/ultralytics/hub/actions/workflows/ci.yaml/badge.svg\" alt=\"CI CPU\"></a>\n",
        "  <a href=\"https://colab.research.google.com/github/ultralytics/hub/blob/main/hub.ipynb\"><img src=\"https://colab.research.google.com/assets/colab-badge.svg\" alt=\"Open In Colab\"></a>\n",
        "\n",
        "  <a href=\"https://ultralytics.com/discord\"><img alt=\"Discord\" src=\"https://img.shields.io/discord/1089800235347353640?logo=discord&logoColor=white&label=Discord&color=blue\"></a>\n",
        "  <a href=\"https://community.ultralytics.com\"><img alt=\"Ultralytics Forums\" src=\"https://img.shields.io/discourse/users?server=https%3A%2F%2Fcommunity.ultralytics.com&logo=discourse&label=Forums&color=blue\"></a>\n",
        "  <a href=\"https://reddit.com/r/ultralytics\"><img alt=\"Ultralytics Reddit\" src=\"https://img.shields.io/reddit/subreddit-subscribers/ultralytics?style=flat&logo=reddit&logoColor=white&label=Reddit&color=blue\"></a>\n",
        "\n",
        "Welcome to the [Ultralytics](https://ultralytics.com/) HUB notebook!\n",
        "\n",
        "This notebook allows you to train Ultralytics [YOLO](https://github.com/ultralytics/ultralytics) 🚀 models using [HUB](https://hub.ultralytics.com/). Please browse the HUB <a href=\"https://docs.ultralytics.com/hub/\">Docs</a> for details, raise an issue on <a href=\"https://github.com/ultralytics/hub/issues/new/choose\">GitHub</a> for support, and join our <a href=\"https://ultralytics.com/discord\">Discord</a> community for questions and discussions!\n",
        "</div>"
      ]
    },
    {
      "cell_type": "markdown",
      "metadata": {
        "id": "eRQ2ow94MiOv"
      },
      "source": [
        "# Setup\n",
        "\n",
        "Pip install `ultralytics` and [dependencies](https://github.com/ultralytics/ultralytics/blob/main/pyproject.toml) and check software and hardware.\n",
        "\n",
        "[![PyPI - Version](https://img.shields.io/pypi/v/ultralytics?logo=pypi&logoColor=white)](https://pypi.org/project/ultralytics/) [![Downloads](https://static.pepy.tech/badge/ultralytics)](https://www.pepy.tech/projects/ultralytics) [![PyPI - Python Version](https://img.shields.io/pypi/pyversions/ultralytics?logo=python&logoColor=gold)](https://pypi.org/project/ultralytics/)"
      ]
    },
    {
      "cell_type": "code",
      "execution_count": 2,
      "metadata": {
        "colab": {
          "base_uri": "https://localhost:8080/"
        },
        "id": "FyDnXd-n4c7Y",
        "outputId": "e263de2d-dcef-4922-e6d7-2ce28d5f4b6f"
      },
      "outputs": [
        {
          "output_type": "stream",
          "name": "stdout",
          "text": [
            "Ultralytics 8.3.43 🚀 Python-3.10.12 torch-2.5.1+cu121 CUDA:0 (Tesla T4, 15102MiB)\n",
            "Setup complete ✅ (2 CPUs, 12.7 GB RAM, 32.7/112.6 GB disk)\n"
          ]
        }
      ],
      "source": [
        "%pip install ultralytics  # install\n",
        "from ultralytics import YOLO, checks, hub\n",
        "\n",
        "checks()  # checks"
      ]
    },
    {
      "cell_type": "markdown",
      "source": [
        "# New Section"
      ],
      "metadata": {
        "id": "9dC0BEibWthP"
      }
    },
    {
      "cell_type": "code",
      "execution_count": 3,
      "metadata": {
        "id": "XSlZaJ9Iw_iZ",
        "colab": {
          "base_uri": "https://localhost:8080/"
        },
        "outputId": "0df1beba-0da5-486b-9771-9a236749b680"
      },
      "outputs": [
        {
          "output_type": "stream",
          "name": "stdout",
          "text": [
            "\u001b[31m\u001b[1mrequirements:\u001b[0m Ultralytics requirement ['hub-sdk>=0.0.12'] not found, attempting AutoUpdate...\n",
            "Collecting hub-sdk>=0.0.12\n",
            "  Downloading hub_sdk-0.0.16-py3-none-any.whl.metadata (10 kB)\n",
            "Requirement already satisfied: requests in /usr/local/lib/python3.10/dist-packages (from hub-sdk>=0.0.12) (2.32.3)\n",
            "Requirement already satisfied: charset-normalizer<4,>=2 in /usr/local/lib/python3.10/dist-packages (from requests->hub-sdk>=0.0.12) (3.4.0)\n",
            "Requirement already satisfied: idna<4,>=2.5 in /usr/local/lib/python3.10/dist-packages (from requests->hub-sdk>=0.0.12) (3.10)\n",
            "Requirement already satisfied: urllib3<3,>=1.21.1 in /usr/local/lib/python3.10/dist-packages (from requests->hub-sdk>=0.0.12) (2.2.3)\n",
            "Requirement already satisfied: certifi>=2017.4.17 in /usr/local/lib/python3.10/dist-packages (from requests->hub-sdk>=0.0.12) (2024.8.30)\n",
            "Downloading hub_sdk-0.0.16-py3-none-any.whl (42 kB)\n",
            "   ━━━━━━━━━━━━━━━━━━━━━━━━━━━━━━━━━━━━━━━━ 42.5/42.5 kB 7.0 MB/s eta 0:00:00\n",
            "Installing collected packages: hub-sdk\n",
            "Successfully installed hub-sdk-0.0.16\n",
            "\n",
            "\u001b[31m\u001b[1mrequirements:\u001b[0m AutoUpdate success ✅ 5.6s, installed 1 package: ['hub-sdk>=0.0.12']\n",
            "\u001b[31m\u001b[1mrequirements:\u001b[0m ⚠️ \u001b[1mRestart runtime or rerun command for updates to take effect\u001b[0m\n",
            "\n",
            "\u001b[34m\u001b[1mUltralytics HUB: \u001b[0mNew authentication successful ✅\n",
            "\u001b[34m\u001b[1mUltralytics HUB: \u001b[0mView model at https://hub.ultralytics.com/models/IXuE5VySRymfw8Nzqk58 🚀\n",
            "Downloading https://github.com/ultralytics/assets/releases/download/v8.3.0/yolo11n.pt to 'yolo11n.pt'...\n"
          ]
        },
        {
          "output_type": "stream",
          "name": "stderr",
          "text": [
            "100%|██████████| 5.35M/5.35M [00:00<00:00, 91.8MB/s]\n"
          ]
        },
        {
          "output_type": "stream",
          "name": "stdout",
          "text": [
            "Ultralytics 8.3.43 🚀 Python-3.10.12 torch-2.5.1+cu121 CUDA:0 (Tesla T4, 15102MiB)\n",
            "\u001b[34m\u001b[1mengine/trainer: \u001b[0mtask=detect, mode=train, model=yolo11n.pt, data=https://storage.googleapis.com/ultralytics-hub.appspot.com/users/yXhTH7jH3ISOIqdiQK1L6yxr6Eg1/datasets/VFiLM21A4NqmcL7xKYC4/fetusData.zip, epochs=100, time=None, patience=100, batch=-1, imgsz=640, save=True, save_period=-1, cache=None, device=None, workers=8, project=None, name=train, exist_ok=False, pretrained=True, optimizer=auto, verbose=True, seed=0, deterministic=True, single_cls=False, rect=False, cos_lr=False, close_mosaic=10, resume=False, amp=True, fraction=1.0, profile=False, freeze=None, multi_scale=False, overlap_mask=True, mask_ratio=4, dropout=0.0, val=True, split=val, save_json=False, save_hybrid=False, conf=None, iou=0.7, max_det=300, half=False, dnn=False, plots=True, source=None, vid_stride=1, stream_buffer=False, visualize=False, augment=False, agnostic_nms=False, classes=None, retina_masks=False, embed=None, show=False, save_frames=False, save_txt=False, save_conf=False, save_crop=False, show_labels=True, show_conf=True, show_boxes=True, line_width=None, format=torchscript, keras=False, optimize=False, int8=False, dynamic=False, simplify=True, opset=None, workspace=None, nms=False, lr0=0.01, lrf=0.01, momentum=0.937, weight_decay=0.0005, warmup_epochs=3.0, warmup_momentum=0.8, warmup_bias_lr=0.1, box=7.5, cls=0.5, dfl=1.5, pose=12.0, kobj=1.0, nbs=64, hsv_h=0.015, hsv_s=0.7, hsv_v=0.4, degrees=0.0, translate=0.1, scale=0.5, shear=0.0, perspective=0.0, flipud=0.0, fliplr=0.5, bgr=0.0, mosaic=1.0, mixup=0.0, copy_paste=0.0, copy_paste_mode=flip, auto_augment=randaugment, erasing=0.4, crop_fraction=1.0, cfg=None, tracker=botsort.yaml, save_dir=runs/detect/train\n",
            "Downloading https://storage.googleapis.com/ultralytics-hub.appspot.com/users/yXhTH7jH3ISOIqdiQK1L6yxr6Eg1/datasets/VFiLM21A4NqmcL7xKYC4/fetusData.zip to 'fetusData.zip'...\n"
          ]
        },
        {
          "output_type": "stream",
          "name": "stderr",
          "text": [
            "100%|██████████| 640M/640M [00:31<00:00, 21.4MB/s]\n",
            "Unzipping fetusData.zip to /content/datasets/fetusData...: 100%|██████████| 4179/4179 [00:03<00:00, 1158.94file/s]\n"
          ]
        },
        {
          "output_type": "stream",
          "name": "stdout",
          "text": [
            "Downloading https://ultralytics.com/assets/Arial.ttf to '/root/.config/Ultralytics/Arial.ttf'...\n"
          ]
        },
        {
          "output_type": "stream",
          "name": "stderr",
          "text": [
            "100%|██████████| 755k/755k [00:00<00:00, 30.0MB/s]\n"
          ]
        },
        {
          "output_type": "stream",
          "name": "stdout",
          "text": [
            "Overriding model.yaml nc=80 with nc=9\n",
            "\n",
            "                   from  n    params  module                                       arguments                     \n",
            "  0                  -1  1       464  ultralytics.nn.modules.conv.Conv             [3, 16, 3, 2]                 \n",
            "  1                  -1  1      4672  ultralytics.nn.modules.conv.Conv             [16, 32, 3, 2]                \n",
            "  2                  -1  1      6640  ultralytics.nn.modules.block.C3k2            [32, 64, 1, False, 0.25]      \n",
            "  3                  -1  1     36992  ultralytics.nn.modules.conv.Conv             [64, 64, 3, 2]                \n",
            "  4                  -1  1     26080  ultralytics.nn.modules.block.C3k2            [64, 128, 1, False, 0.25]     \n",
            "  5                  -1  1    147712  ultralytics.nn.modules.conv.Conv             [128, 128, 3, 2]              \n",
            "  6                  -1  1     87040  ultralytics.nn.modules.block.C3k2            [128, 128, 1, True]           \n",
            "  7                  -1  1    295424  ultralytics.nn.modules.conv.Conv             [128, 256, 3, 2]              \n",
            "  8                  -1  1    346112  ultralytics.nn.modules.block.C3k2            [256, 256, 1, True]           \n",
            "  9                  -1  1    164608  ultralytics.nn.modules.block.SPPF            [256, 256, 5]                 \n",
            " 10                  -1  1    249728  ultralytics.nn.modules.block.C2PSA           [256, 256, 1]                 \n",
            " 11                  -1  1         0  torch.nn.modules.upsampling.Upsample         [None, 2, 'nearest']          \n",
            " 12             [-1, 6]  1         0  ultralytics.nn.modules.conv.Concat           [1]                           \n",
            " 13                  -1  1    111296  ultralytics.nn.modules.block.C3k2            [384, 128, 1, False]          \n",
            " 14                  -1  1         0  torch.nn.modules.upsampling.Upsample         [None, 2, 'nearest']          \n",
            " 15             [-1, 4]  1         0  ultralytics.nn.modules.conv.Concat           [1]                           \n",
            " 16                  -1  1     32096  ultralytics.nn.modules.block.C3k2            [256, 64, 1, False]           \n",
            " 17                  -1  1     36992  ultralytics.nn.modules.conv.Conv             [64, 64, 3, 2]                \n",
            " 18            [-1, 13]  1         0  ultralytics.nn.modules.conv.Concat           [1]                           \n",
            " 19                  -1  1     86720  ultralytics.nn.modules.block.C3k2            [192, 128, 1, False]          \n",
            " 20                  -1  1    147712  ultralytics.nn.modules.conv.Conv             [128, 128, 3, 2]              \n",
            " 21            [-1, 10]  1         0  ultralytics.nn.modules.conv.Concat           [1]                           \n",
            " 22                  -1  1    378880  ultralytics.nn.modules.block.C3k2            [384, 256, 1, True]           \n",
            " 23        [16, 19, 22]  1    432427  ultralytics.nn.modules.head.Detect           [9, [64, 128, 256]]           \n",
            "YOLO11n summary: 319 layers, 2,591,595 parameters, 2,591,579 gradients, 6.4 GFLOPs\n",
            "\n",
            "Transferred 448/499 items from pretrained weights\n",
            "\u001b[34m\u001b[1mTensorBoard: \u001b[0mStart with 'tensorboard --logdir runs/detect/train', view at http://localhost:6006/\n",
            "Freezing layer 'model.23.dfl.conv.weight'\n",
            "\u001b[34m\u001b[1mAMP: \u001b[0mrunning Automatic Mixed Precision (AMP) checks...\n",
            "\u001b[34m\u001b[1mAMP: \u001b[0mchecks passed ✅\n"
          ]
        },
        {
          "output_type": "stream",
          "name": "stderr",
          "text": [
            "\u001b[34m\u001b[1mtrain: \u001b[0mScanning /content/datasets/fetusData/detect/labels/train... 1131 images, 1685 backgrounds, 0 corrupt: 100%|██████████| 2816/2816 [00:01<00:00, 1535.83it/s]\n"
          ]
        },
        {
          "output_type": "stream",
          "name": "stdout",
          "text": [
            "\u001b[34m\u001b[1mtrain: \u001b[0mNew cache created: /content/datasets/fetusData/detect/labels/train.cache\n",
            "\u001b[34m\u001b[1malbumentations: \u001b[0mBlur(p=0.01, blur_limit=(3, 7)), MedianBlur(p=0.01, blur_limit=(3, 7)), ToGray(p=0.01, num_output_channels=3, method='weighted_average'), CLAHE(p=0.01, clip_limit=(1.0, 4.0), tile_grid_size=(8, 8))\n"
          ]
        },
        {
          "output_type": "stream",
          "name": "stderr",
          "text": [
            "/usr/local/lib/python3.10/dist-packages/albumentations/__init__.py:24: UserWarning: A new version of Albumentations is available: 1.4.21 (you have 1.4.20). Upgrade using: pip install -U albumentations. To disable automatic update checks, set the environment variable NO_ALBUMENTATIONS_UPDATE to 1.\n",
            "  check_for_updates()\n"
          ]
        },
        {
          "output_type": "stream",
          "name": "stdout",
          "text": [
            "\u001b[34m\u001b[1mAutoBatch: \u001b[0mComputing optimal batch size for imgsz=640 at 60.0% CUDA memory utilization.\n",
            "\u001b[34m\u001b[1mAutoBatch: \u001b[0mCUDA:0 (Tesla T4) 14.75G total, 0.10G reserved, 0.05G allocated, 14.60G free\n",
            "      Params      GFLOPs  GPU_mem (GB)  forward (ms) backward (ms)                   input                  output\n",
            "     2591595       6.449         0.245         66.02         425.6        (1, 3, 640, 640)                    list\n",
            "     2591595        12.9         0.354         30.67         62.52        (2, 3, 640, 640)                    list\n",
            "     2591595        25.8         0.633         39.31         81.51        (4, 3, 640, 640)                    list\n",
            "     2591595       51.59         1.168         46.99           106        (8, 3, 640, 640)                    list\n",
            "     2591595       103.2         2.261         59.96         128.5       (16, 3, 640, 640)                    list\n",
            "\u001b[34m\u001b[1mAutoBatch: \u001b[0mUsing batch-size 64 for CUDA:0 8.89G/14.75G (60%) ✅\n"
          ]
        },
        {
          "output_type": "stream",
          "name": "stderr",
          "text": [
            "\u001b[34m\u001b[1mtrain: \u001b[0mScanning /content/datasets/fetusData/detect/labels/train.cache... 1131 images, 1685 backgrounds, 0 corrupt: 100%|██████████| 2816/2816 [00:00<?, ?it/s]"
          ]
        },
        {
          "output_type": "stream",
          "name": "stdout",
          "text": [
            "\u001b[34m\u001b[1malbumentations: \u001b[0mBlur(p=0.01, blur_limit=(3, 7)), MedianBlur(p=0.01, blur_limit=(3, 7)), ToGray(p=0.01, num_output_channels=3, method='weighted_average'), CLAHE(p=0.01, clip_limit=(1.0, 4.0), tile_grid_size=(8, 8))\n"
          ]
        },
        {
          "output_type": "stream",
          "name": "stderr",
          "text": [
            "\n",
            "\u001b[34m\u001b[1mval: \u001b[0mScanning /content/datasets/fetusData/detect/labels/val... 72 images, 0 backgrounds, 0 corrupt: 100%|██████████| 72/72 [00:00<00:00, 760.06it/s]"
          ]
        },
        {
          "output_type": "stream",
          "name": "stdout",
          "text": [
            "\u001b[34m\u001b[1mval: \u001b[0mNew cache created: /content/datasets/fetusData/detect/labels/val.cache\n"
          ]
        },
        {
          "output_type": "stream",
          "name": "stderr",
          "text": [
            "\n"
          ]
        },
        {
          "output_type": "stream",
          "name": "stdout",
          "text": [
            "Plotting labels to runs/detect/train/labels.jpg... \n",
            "\u001b[34m\u001b[1moptimizer:\u001b[0m 'optimizer=auto' found, ignoring 'lr0=0.01' and 'momentum=0.937' and determining best 'optimizer', 'lr0' and 'momentum' automatically... \n",
            "\u001b[34m\u001b[1moptimizer:\u001b[0m AdamW(lr=0.000769, momentum=0.9) with parameter groups 81 weight(decay=0.0), 88 weight(decay=0.0005), 87 bias(decay=0.0)\n",
            "\u001b[34m\u001b[1mTensorBoard: \u001b[0mmodel graph visualization added ✅\n",
            "Image sizes 640 train, 640 val\n",
            "Using 2 dataloader workers\n",
            "Logging results to \u001b[1mruns/detect/train\u001b[0m\n",
            "Starting training for 100 epochs...\n",
            "\n",
            "      Epoch    GPU_mem   box_loss   cls_loss   dfl_loss  Instances       Size\n"
          ]
        },
        {
          "output_type": "stream",
          "name": "stderr",
          "text": [
            "      1/100      9.47G      2.334      4.577      1.759        391        640: 100%|██████████| 44/44 [01:10<00:00,  1.61s/it]\n",
            "                 Class     Images  Instances      Box(P          R      mAP50  mAP50-95): 100%|██████████| 1/1 [00:04<00:00,  4.22s/it]"
          ]
        },
        {
          "output_type": "stream",
          "name": "stdout",
          "text": [
            "                   all         72        624      0.026      0.527      0.201     0.0854\n"
          ]
        },
        {
          "output_type": "stream",
          "name": "stderr",
          "text": [
            "\n"
          ]
        },
        {
          "output_type": "stream",
          "name": "stdout",
          "text": [
            "\n",
            "      Epoch    GPU_mem   box_loss   cls_loss   dfl_loss  Instances       Size\n"
          ]
        },
        {
          "output_type": "stream",
          "name": "stderr",
          "text": [
            "      2/100      9.02G      1.698      2.358       1.26        276        640: 100%|██████████| 44/44 [01:08<00:00,  1.55s/it]\n",
            "                 Class     Images  Instances      Box(P          R      mAP50  mAP50-95): 100%|██████████| 1/1 [00:01<00:00,  1.67s/it]"
          ]
        },
        {
          "output_type": "stream",
          "name": "stdout",
          "text": [
            "                   all         72        624     0.0306      0.693      0.577      0.288\n"
          ]
        },
        {
          "output_type": "stream",
          "name": "stderr",
          "text": [
            "\n"
          ]
        },
        {
          "output_type": "stream",
          "name": "stdout",
          "text": [
            "\n",
            "      Epoch    GPU_mem   box_loss   cls_loss   dfl_loss  Instances       Size\n"
          ]
        },
        {
          "output_type": "stream",
          "name": "stderr",
          "text": [
            "      3/100      9.07G       1.58      1.861      1.232        474        640: 100%|██████████| 44/44 [01:10<00:00,  1.60s/it]\n",
            "                 Class     Images  Instances      Box(P          R      mAP50  mAP50-95): 100%|██████████| 1/1 [00:00<00:00,  1.25it/s]"
          ]
        },
        {
          "output_type": "stream",
          "name": "stdout",
          "text": [
            "                   all         72        624      0.862      0.582       0.81      0.419\n"
          ]
        },
        {
          "output_type": "stream",
          "name": "stderr",
          "text": [
            "\n"
          ]
        },
        {
          "output_type": "stream",
          "name": "stdout",
          "text": [
            "\n",
            "      Epoch    GPU_mem   box_loss   cls_loss   dfl_loss  Instances       Size\n"
          ]
        },
        {
          "output_type": "stream",
          "name": "stderr",
          "text": [
            "      4/100      9.35G      1.529      1.715      1.218        393        640: 100%|██████████| 44/44 [01:10<00:00,  1.60s/it]\n",
            "                 Class     Images  Instances      Box(P          R      mAP50  mAP50-95): 100%|██████████| 1/1 [00:01<00:00,  1.22s/it]"
          ]
        },
        {
          "output_type": "stream",
          "name": "stdout",
          "text": [
            "                   all         72        624      0.846      0.784      0.857      0.455\n"
          ]
        },
        {
          "output_type": "stream",
          "name": "stderr",
          "text": [
            "\n"
          ]
        },
        {
          "output_type": "stream",
          "name": "stdout",
          "text": [
            "\n",
            "      Epoch    GPU_mem   box_loss   cls_loss   dfl_loss  Instances       Size\n"
          ]
        },
        {
          "output_type": "stream",
          "name": "stderr",
          "text": [
            "      5/100      9.05G       1.49      1.594      1.198        374        640: 100%|██████████| 44/44 [01:17<00:00,  1.76s/it]\n",
            "                 Class     Images  Instances      Box(P          R      mAP50  mAP50-95): 100%|██████████| 1/1 [00:00<00:00,  1.27it/s]"
          ]
        },
        {
          "output_type": "stream",
          "name": "stdout",
          "text": [
            "                   all         72        624      0.803      0.736      0.836      0.446\n"
          ]
        },
        {
          "output_type": "stream",
          "name": "stderr",
          "text": [
            "\n"
          ]
        },
        {
          "output_type": "stream",
          "name": "stdout",
          "text": [
            "\n",
            "      Epoch    GPU_mem   box_loss   cls_loss   dfl_loss  Instances       Size\n"
          ]
        },
        {
          "output_type": "stream",
          "name": "stderr",
          "text": [
            "      6/100      9.28G      1.473      1.558      1.193        426        640: 100%|██████████| 44/44 [01:12<00:00,  1.64s/it]\n",
            "                 Class     Images  Instances      Box(P          R      mAP50  mAP50-95): 100%|██████████| 1/1 [00:01<00:00,  1.15s/it]"
          ]
        },
        {
          "output_type": "stream",
          "name": "stdout",
          "text": [
            "                   all         72        624      0.807      0.836      0.871      0.475\n"
          ]
        },
        {
          "output_type": "stream",
          "name": "stderr",
          "text": [
            "\n"
          ]
        },
        {
          "output_type": "stream",
          "name": "stdout",
          "text": [
            "\n",
            "      Epoch    GPU_mem   box_loss   cls_loss   dfl_loss  Instances       Size\n"
          ]
        },
        {
          "output_type": "stream",
          "name": "stderr",
          "text": [
            "      7/100      9.08G      1.457       1.47      1.183        443        640: 100%|██████████| 44/44 [01:09<00:00,  1.59s/it]\n",
            "                 Class     Images  Instances      Box(P          R      mAP50  mAP50-95): 100%|██████████| 1/1 [00:00<00:00,  1.36it/s]"
          ]
        },
        {
          "output_type": "stream",
          "name": "stdout",
          "text": [
            "                   all         72        624      0.849      0.865      0.889      0.504\n"
          ]
        },
        {
          "output_type": "stream",
          "name": "stderr",
          "text": [
            "\n"
          ]
        },
        {
          "output_type": "stream",
          "name": "stdout",
          "text": [
            "\n",
            "      Epoch    GPU_mem   box_loss   cls_loss   dfl_loss  Instances       Size\n"
          ]
        },
        {
          "output_type": "stream",
          "name": "stderr",
          "text": [
            "      8/100      9.46G      1.439      1.425      1.175        383        640: 100%|██████████| 44/44 [01:12<00:00,  1.66s/it]\n",
            "                 Class     Images  Instances      Box(P          R      mAP50  mAP50-95): 100%|██████████| 1/1 [00:00<00:00,  1.41it/s]"
          ]
        },
        {
          "output_type": "stream",
          "name": "stdout",
          "text": [
            "                   all         72        624      0.852      0.884      0.918      0.506\n"
          ]
        },
        {
          "output_type": "stream",
          "name": "stderr",
          "text": [
            "\n"
          ]
        },
        {
          "output_type": "stream",
          "name": "stdout",
          "text": [
            "\n",
            "      Epoch    GPU_mem   box_loss   cls_loss   dfl_loss  Instances       Size\n"
          ]
        },
        {
          "output_type": "stream",
          "name": "stderr",
          "text": [
            "      9/100       9.2G      1.407      1.372      1.161        404        640: 100%|██████████| 44/44 [01:14<00:00,  1.70s/it]\n",
            "                 Class     Images  Instances      Box(P          R      mAP50  mAP50-95): 100%|██████████| 1/1 [00:01<00:00,  1.63s/it]"
          ]
        },
        {
          "output_type": "stream",
          "name": "stdout",
          "text": [
            "                   all         72        624      0.856      0.869      0.918      0.523\n"
          ]
        },
        {
          "output_type": "stream",
          "name": "stderr",
          "text": [
            "\n"
          ]
        },
        {
          "output_type": "stream",
          "name": "stdout",
          "text": [
            "\n",
            "      Epoch    GPU_mem   box_loss   cls_loss   dfl_loss  Instances       Size\n"
          ]
        },
        {
          "output_type": "stream",
          "name": "stderr",
          "text": [
            "     10/100      9.23G      1.415       1.37      1.163        383        640: 100%|██████████| 44/44 [01:16<00:00,  1.74s/it]\n",
            "                 Class     Images  Instances      Box(P          R      mAP50  mAP50-95): 100%|██████████| 1/1 [00:00<00:00,  1.28it/s]"
          ]
        },
        {
          "output_type": "stream",
          "name": "stdout",
          "text": [
            "                   all         72        624      0.844      0.858      0.908      0.523\n"
          ]
        },
        {
          "output_type": "stream",
          "name": "stderr",
          "text": [
            "\n"
          ]
        },
        {
          "output_type": "stream",
          "name": "stdout",
          "text": [
            "\n",
            "      Epoch    GPU_mem   box_loss   cls_loss   dfl_loss  Instances       Size\n"
          ]
        },
        {
          "output_type": "stream",
          "name": "stderr",
          "text": [
            "     11/100      9.18G      1.399      1.325      1.156        420        640: 100%|██████████| 44/44 [01:10<00:00,  1.60s/it]\n",
            "                 Class     Images  Instances      Box(P          R      mAP50  mAP50-95): 100%|██████████| 1/1 [00:01<00:00,  1.42s/it]"
          ]
        },
        {
          "output_type": "stream",
          "name": "stdout",
          "text": [
            "                   all         72        624      0.872      0.875      0.927       0.55\n"
          ]
        },
        {
          "output_type": "stream",
          "name": "stderr",
          "text": [
            "\n"
          ]
        },
        {
          "output_type": "stream",
          "name": "stdout",
          "text": [
            "\n",
            "      Epoch    GPU_mem   box_loss   cls_loss   dfl_loss  Instances       Size\n"
          ]
        },
        {
          "output_type": "stream",
          "name": "stderr",
          "text": [
            "     12/100      9.02G      1.397      1.311      1.148        394        640: 100%|██████████| 44/44 [01:10<00:00,  1.61s/it]\n",
            "                 Class     Images  Instances      Box(P          R      mAP50  mAP50-95): 100%|██████████| 1/1 [00:00<00:00,  1.25it/s]"
          ]
        },
        {
          "output_type": "stream",
          "name": "stdout",
          "text": [
            "                   all         72        624      0.881      0.902      0.931      0.534\n"
          ]
        },
        {
          "output_type": "stream",
          "name": "stderr",
          "text": [
            "\n"
          ]
        },
        {
          "output_type": "stream",
          "name": "stdout",
          "text": [
            "\u001b[34m\u001b[1mUltralytics HUB: \u001b[0mUploading checkpoint https://hub.ultralytics.com/models/IXuE5VySRymfw8Nzqk58\n",
            "\n",
            "      Epoch    GPU_mem   box_loss   cls_loss   dfl_loss  Instances       Size\n"
          ]
        },
        {
          "output_type": "stream",
          "name": "stderr",
          "text": [
            "     13/100      9.31G      1.374      1.324      1.146        305        640: 100%|██████████| 44/44 [01:10<00:00,  1.61s/it]\n",
            "                 Class     Images  Instances      Box(P          R      mAP50  mAP50-95): 100%|██████████| 1/1 [00:00<00:00,  1.30it/s]"
          ]
        },
        {
          "output_type": "stream",
          "name": "stdout",
          "text": [
            "                   all         72        624      0.877      0.924      0.943      0.559\n"
          ]
        },
        {
          "output_type": "stream",
          "name": "stderr",
          "text": [
            "\n"
          ]
        },
        {
          "output_type": "stream",
          "name": "stdout",
          "text": [
            "\n",
            "      Epoch    GPU_mem   box_loss   cls_loss   dfl_loss  Instances       Size\n"
          ]
        },
        {
          "output_type": "stream",
          "name": "stderr",
          "text": [
            "     14/100      8.98G      1.359      1.303      1.139        350        640: 100%|██████████| 44/44 [01:15<00:00,  1.71s/it]\n",
            "                 Class     Images  Instances      Box(P          R      mAP50  mAP50-95): 100%|██████████| 1/1 [00:00<00:00,  1.21it/s]"
          ]
        },
        {
          "output_type": "stream",
          "name": "stdout",
          "text": [
            "                   all         72        624      0.875      0.887      0.928      0.544\n"
          ]
        },
        {
          "output_type": "stream",
          "name": "stderr",
          "text": [
            "\n"
          ]
        },
        {
          "output_type": "stream",
          "name": "stdout",
          "text": [
            "\n",
            "      Epoch    GPU_mem   box_loss   cls_loss   dfl_loss  Instances       Size\n"
          ]
        },
        {
          "output_type": "stream",
          "name": "stderr",
          "text": [
            "     15/100      9.11G       1.36      1.255      1.136        368        640: 100%|██████████| 44/44 [01:12<00:00,  1.64s/it]\n",
            "                 Class     Images  Instances      Box(P          R      mAP50  mAP50-95): 100%|██████████| 1/1 [00:00<00:00,  1.21it/s]"
          ]
        },
        {
          "output_type": "stream",
          "name": "stdout",
          "text": [
            "                   all         72        624      0.885      0.903      0.929      0.536\n"
          ]
        },
        {
          "output_type": "stream",
          "name": "stderr",
          "text": [
            "\n"
          ]
        },
        {
          "output_type": "stream",
          "name": "stdout",
          "text": [
            "\n",
            "      Epoch    GPU_mem   box_loss   cls_loss   dfl_loss  Instances       Size\n"
          ]
        },
        {
          "output_type": "stream",
          "name": "stderr",
          "text": [
            "     16/100      9.37G      1.347      1.265      1.131        340        640: 100%|██████████| 44/44 [01:11<00:00,  1.63s/it]\n",
            "                 Class     Images  Instances      Box(P          R      mAP50  mAP50-95): 100%|██████████| 1/1 [00:01<00:00,  1.37s/it]"
          ]
        },
        {
          "output_type": "stream",
          "name": "stdout",
          "text": [
            "                   all         72        624      0.893      0.918      0.946      0.557\n"
          ]
        },
        {
          "output_type": "stream",
          "name": "stderr",
          "text": [
            "\n"
          ]
        },
        {
          "output_type": "stream",
          "name": "stdout",
          "text": [
            "\n",
            "      Epoch    GPU_mem   box_loss   cls_loss   dfl_loss  Instances       Size\n"
          ]
        },
        {
          "output_type": "stream",
          "name": "stderr",
          "text": [
            "     17/100      9.34G      1.346      1.243      1.126        320        640: 100%|██████████| 44/44 [01:13<00:00,  1.66s/it]\n",
            "                 Class     Images  Instances      Box(P          R      mAP50  mAP50-95): 100%|██████████| 1/1 [00:00<00:00,  1.35it/s]"
          ]
        },
        {
          "output_type": "stream",
          "name": "stdout",
          "text": [
            "                   all         72        624      0.894      0.917       0.95      0.552\n"
          ]
        },
        {
          "output_type": "stream",
          "name": "stderr",
          "text": [
            "\n"
          ]
        },
        {
          "output_type": "stream",
          "name": "stdout",
          "text": [
            "\n",
            "      Epoch    GPU_mem   box_loss   cls_loss   dfl_loss  Instances       Size\n"
          ]
        },
        {
          "output_type": "stream",
          "name": "stderr",
          "text": [
            "     18/100      9.17G      1.333      1.252      1.121        403        640: 100%|██████████| 44/44 [01:15<00:00,  1.72s/it]\n",
            "                 Class     Images  Instances      Box(P          R      mAP50  mAP50-95): 100%|██████████| 1/1 [00:01<00:00,  1.40s/it]"
          ]
        },
        {
          "output_type": "stream",
          "name": "stdout",
          "text": [
            "                   all         72        624       0.91      0.888      0.943      0.561\n"
          ]
        },
        {
          "output_type": "stream",
          "name": "stderr",
          "text": [
            "\n"
          ]
        },
        {
          "output_type": "stream",
          "name": "stdout",
          "text": [
            "\n",
            "      Epoch    GPU_mem   box_loss   cls_loss   dfl_loss  Instances       Size\n"
          ]
        },
        {
          "output_type": "stream",
          "name": "stderr",
          "text": [
            "     19/100      9.37G      1.333      1.234      1.122        437        640: 100%|██████████| 44/44 [01:16<00:00,  1.74s/it]\n",
            "                 Class     Images  Instances      Box(P          R      mAP50  mAP50-95): 100%|██████████| 1/1 [00:02<00:00,  2.00s/it]"
          ]
        },
        {
          "output_type": "stream",
          "name": "stdout",
          "text": [
            "                   all         72        624      0.885      0.911      0.944      0.577\n"
          ]
        },
        {
          "output_type": "stream",
          "name": "stderr",
          "text": [
            "\n"
          ]
        },
        {
          "output_type": "stream",
          "name": "stdout",
          "text": [
            "\n",
            "      Epoch    GPU_mem   box_loss   cls_loss   dfl_loss  Instances       Size\n"
          ]
        },
        {
          "output_type": "stream",
          "name": "stderr",
          "text": [
            "     20/100      9.13G       1.32      1.228       1.12        290        640: 100%|██████████| 44/44 [01:12<00:00,  1.65s/it]\n",
            "                 Class     Images  Instances      Box(P          R      mAP50  mAP50-95): 100%|██████████| 1/1 [00:00<00:00,  1.29it/s]"
          ]
        },
        {
          "output_type": "stream",
          "name": "stdout",
          "text": [
            "                   all         72        624      0.897      0.926      0.949      0.582\n"
          ]
        },
        {
          "output_type": "stream",
          "name": "stderr",
          "text": [
            "\n"
          ]
        },
        {
          "output_type": "stream",
          "name": "stdout",
          "text": [
            "\n",
            "      Epoch    GPU_mem   box_loss   cls_loss   dfl_loss  Instances       Size\n"
          ]
        },
        {
          "output_type": "stream",
          "name": "stderr",
          "text": [
            "     21/100      9.41G      1.327      1.221      1.123        328        640: 100%|██████████| 44/44 [01:15<00:00,  1.72s/it]\n",
            "                 Class     Images  Instances      Box(P          R      mAP50  mAP50-95): 100%|██████████| 1/1 [00:00<00:00,  1.20it/s]"
          ]
        },
        {
          "output_type": "stream",
          "name": "stdout",
          "text": [
            "                   all         72        624      0.897      0.934      0.957      0.577\n"
          ]
        },
        {
          "output_type": "stream",
          "name": "stderr",
          "text": [
            "\n"
          ]
        },
        {
          "output_type": "stream",
          "name": "stdout",
          "text": [
            "\n",
            "      Epoch    GPU_mem   box_loss   cls_loss   dfl_loss  Instances       Size\n"
          ]
        },
        {
          "output_type": "stream",
          "name": "stderr",
          "text": [
            "     22/100      9.27G       1.31      1.182      1.118        385        640: 100%|██████████| 44/44 [01:14<00:00,  1.68s/it]\n",
            "                 Class     Images  Instances      Box(P          R      mAP50  mAP50-95): 100%|██████████| 1/1 [00:03<00:00,  3.23s/it]"
          ]
        },
        {
          "output_type": "stream",
          "name": "stdout",
          "text": [
            "                   all         72        624      0.919      0.916      0.956      0.578\n"
          ]
        },
        {
          "output_type": "stream",
          "name": "stderr",
          "text": [
            "\n"
          ]
        },
        {
          "output_type": "stream",
          "name": "stdout",
          "text": [
            "\n",
            "      Epoch    GPU_mem   box_loss   cls_loss   dfl_loss  Instances       Size\n"
          ]
        },
        {
          "output_type": "stream",
          "name": "stderr",
          "text": [
            "     23/100      9.46G      1.312      1.185      1.113        425        640: 100%|██████████| 44/44 [01:24<00:00,  1.93s/it]\n",
            "                 Class     Images  Instances      Box(P          R      mAP50  mAP50-95): 100%|██████████| 1/1 [00:00<00:00,  1.21it/s]"
          ]
        },
        {
          "output_type": "stream",
          "name": "stdout",
          "text": [
            "                   all         72        624       0.89      0.926      0.951      0.586\n"
          ]
        },
        {
          "output_type": "stream",
          "name": "stderr",
          "text": [
            "\n"
          ]
        },
        {
          "output_type": "stream",
          "name": "stdout",
          "text": [
            "\n",
            "      Epoch    GPU_mem   box_loss   cls_loss   dfl_loss  Instances       Size\n"
          ]
        },
        {
          "output_type": "stream",
          "name": "stderr",
          "text": [
            "     24/100      9.35G        1.3      1.195      1.107        337        640: 100%|██████████| 44/44 [01:14<00:00,  1.70s/it]\n",
            "                 Class     Images  Instances      Box(P          R      mAP50  mAP50-95): 100%|██████████| 1/1 [00:01<00:00,  1.38s/it]"
          ]
        },
        {
          "output_type": "stream",
          "name": "stdout",
          "text": [
            "                   all         72        624      0.928      0.912      0.958      0.599\n"
          ]
        },
        {
          "output_type": "stream",
          "name": "stderr",
          "text": [
            "\n"
          ]
        },
        {
          "output_type": "stream",
          "name": "stdout",
          "text": [
            "\u001b[34m\u001b[1mUltralytics HUB: \u001b[0mUploading checkpoint https://hub.ultralytics.com/models/IXuE5VySRymfw8Nzqk58\n",
            "\n",
            "      Epoch    GPU_mem   box_loss   cls_loss   dfl_loss  Instances       Size\n"
          ]
        },
        {
          "output_type": "stream",
          "name": "stderr",
          "text": [
            "     25/100      9.42G      1.299      1.201      1.107        381        640: 100%|██████████| 44/44 [01:13<00:00,  1.67s/it]\n",
            "                 Class     Images  Instances      Box(P          R      mAP50  mAP50-95): 100%|██████████| 1/1 [00:00<00:00,  1.16it/s]"
          ]
        },
        {
          "output_type": "stream",
          "name": "stdout",
          "text": [
            "                   all         72        624      0.925       0.92      0.957      0.583\n"
          ]
        },
        {
          "output_type": "stream",
          "name": "stderr",
          "text": [
            "\n"
          ]
        },
        {
          "output_type": "stream",
          "name": "stdout",
          "text": [
            "\n",
            "      Epoch    GPU_mem   box_loss   cls_loss   dfl_loss  Instances       Size\n"
          ]
        },
        {
          "output_type": "stream",
          "name": "stderr",
          "text": [
            "     26/100      9.24G      1.287      1.167      1.105        318        640: 100%|██████████| 44/44 [01:14<00:00,  1.69s/it]\n",
            "                 Class     Images  Instances      Box(P          R      mAP50  mAP50-95): 100%|██████████| 1/1 [00:01<00:00,  1.18s/it]"
          ]
        },
        {
          "output_type": "stream",
          "name": "stdout",
          "text": [
            "                   all         72        624      0.923      0.935      0.972      0.593\n"
          ]
        },
        {
          "output_type": "stream",
          "name": "stderr",
          "text": [
            "\n"
          ]
        },
        {
          "output_type": "stream",
          "name": "stdout",
          "text": [
            "\n",
            "      Epoch    GPU_mem   box_loss   cls_loss   dfl_loss  Instances       Size\n"
          ]
        },
        {
          "output_type": "stream",
          "name": "stderr",
          "text": [
            "     27/100      9.36G      1.285      1.174        1.1        450        640: 100%|██████████| 44/44 [01:18<00:00,  1.78s/it]\n",
            "                 Class     Images  Instances      Box(P          R      mAP50  mAP50-95): 100%|██████████| 1/1 [00:00<00:00,  1.48it/s]"
          ]
        },
        {
          "output_type": "stream",
          "name": "stdout",
          "text": [
            "                   all         72        624      0.905      0.895       0.94      0.593\n"
          ]
        },
        {
          "output_type": "stream",
          "name": "stderr",
          "text": [
            "\n"
          ]
        },
        {
          "output_type": "stream",
          "name": "stdout",
          "text": [
            "\n",
            "      Epoch    GPU_mem   box_loss   cls_loss   dfl_loss  Instances       Size\n"
          ]
        },
        {
          "output_type": "stream",
          "name": "stderr",
          "text": [
            "     28/100      9.38G      1.289      1.193      1.109        321        640: 100%|██████████| 44/44 [01:13<00:00,  1.67s/it]\n",
            "                 Class     Images  Instances      Box(P          R      mAP50  mAP50-95): 100%|██████████| 1/1 [00:01<00:00,  1.35s/it]"
          ]
        },
        {
          "output_type": "stream",
          "name": "stdout",
          "text": [
            "                   all         72        624      0.912      0.932      0.966      0.614\n"
          ]
        },
        {
          "output_type": "stream",
          "name": "stderr",
          "text": [
            "\n"
          ]
        },
        {
          "output_type": "stream",
          "name": "stdout",
          "text": [
            "\n",
            "      Epoch    GPU_mem   box_loss   cls_loss   dfl_loss  Instances       Size\n"
          ]
        },
        {
          "output_type": "stream",
          "name": "stderr",
          "text": [
            "     29/100       9.2G      1.285      1.179        1.1        352        640: 100%|██████████| 44/44 [01:11<00:00,  1.62s/it]\n",
            "                 Class     Images  Instances      Box(P          R      mAP50  mAP50-95): 100%|██████████| 1/1 [00:00<00:00,  1.23it/s]"
          ]
        },
        {
          "output_type": "stream",
          "name": "stdout",
          "text": [
            "                   all         72        624      0.906      0.916      0.957      0.595\n"
          ]
        },
        {
          "output_type": "stream",
          "name": "stderr",
          "text": [
            "\n"
          ]
        },
        {
          "output_type": "stream",
          "name": "stdout",
          "text": [
            "\n",
            "      Epoch    GPU_mem   box_loss   cls_loss   dfl_loss  Instances       Size\n"
          ]
        },
        {
          "output_type": "stream",
          "name": "stderr",
          "text": [
            "     30/100      9.23G      1.283      1.159      1.105        391        640: 100%|██████████| 44/44 [01:14<00:00,  1.68s/it]\n",
            "                 Class     Images  Instances      Box(P          R      mAP50  mAP50-95): 100%|██████████| 1/1 [00:01<00:00,  1.50s/it]"
          ]
        },
        {
          "output_type": "stream",
          "name": "stdout",
          "text": [
            "                   all         72        624      0.912      0.951      0.961      0.604\n"
          ]
        },
        {
          "output_type": "stream",
          "name": "stderr",
          "text": [
            "\n"
          ]
        },
        {
          "output_type": "stream",
          "name": "stdout",
          "text": [
            "\n",
            "      Epoch    GPU_mem   box_loss   cls_loss   dfl_loss  Instances       Size\n"
          ]
        },
        {
          "output_type": "stream",
          "name": "stderr",
          "text": [
            "     31/100      9.21G      1.257      1.154      1.088        310        640: 100%|██████████| 44/44 [01:11<00:00,  1.62s/it]\n",
            "                 Class     Images  Instances      Box(P          R      mAP50  mAP50-95): 100%|██████████| 1/1 [00:00<00:00,  1.37it/s]"
          ]
        },
        {
          "output_type": "stream",
          "name": "stdout",
          "text": [
            "                   all         72        624       0.93      0.922      0.959      0.606\n"
          ]
        },
        {
          "output_type": "stream",
          "name": "stderr",
          "text": [
            "\n"
          ]
        },
        {
          "output_type": "stream",
          "name": "stdout",
          "text": [
            "\n",
            "      Epoch    GPU_mem   box_loss   cls_loss   dfl_loss  Instances       Size\n"
          ]
        },
        {
          "output_type": "stream",
          "name": "stderr",
          "text": [
            "     32/100      9.39G      1.273       1.17      1.102        415        640: 100%|██████████| 44/44 [01:10<00:00,  1.61s/it]\n",
            "                 Class     Images  Instances      Box(P          R      mAP50  mAP50-95): 100%|██████████| 1/1 [00:00<00:00,  1.27it/s]"
          ]
        },
        {
          "output_type": "stream",
          "name": "stdout",
          "text": [
            "                   all         72        624      0.917      0.928      0.955      0.589\n"
          ]
        },
        {
          "output_type": "stream",
          "name": "stderr",
          "text": [
            "\n"
          ]
        },
        {
          "output_type": "stream",
          "name": "stdout",
          "text": [
            "\n",
            "      Epoch    GPU_mem   box_loss   cls_loss   dfl_loss  Instances       Size\n"
          ]
        },
        {
          "output_type": "stream",
          "name": "stderr",
          "text": [
            "     33/100       9.4G      1.256      1.151      1.088        502        640: 100%|██████████| 44/44 [01:13<00:00,  1.67s/it]\n",
            "                 Class     Images  Instances      Box(P          R      mAP50  mAP50-95): 100%|██████████| 1/1 [00:01<00:00,  1.30s/it]"
          ]
        },
        {
          "output_type": "stream",
          "name": "stdout",
          "text": [
            "                   all         72        624      0.924      0.931       0.96      0.613\n"
          ]
        },
        {
          "output_type": "stream",
          "name": "stderr",
          "text": [
            "\n"
          ]
        },
        {
          "output_type": "stream",
          "name": "stdout",
          "text": [
            "\n",
            "      Epoch    GPU_mem   box_loss   cls_loss   dfl_loss  Instances       Size\n"
          ]
        },
        {
          "output_type": "stream",
          "name": "stderr",
          "text": [
            "     34/100      9.18G      1.258      1.146      1.094        389        640: 100%|██████████| 44/44 [01:13<00:00,  1.67s/it]\n",
            "                 Class     Images  Instances      Box(P          R      mAP50  mAP50-95): 100%|██████████| 1/1 [00:00<00:00,  1.29it/s]"
          ]
        },
        {
          "output_type": "stream",
          "name": "stdout",
          "text": [
            "                   all         72        624      0.915      0.942      0.966      0.624\n"
          ]
        },
        {
          "output_type": "stream",
          "name": "stderr",
          "text": [
            "\n"
          ]
        },
        {
          "output_type": "stream",
          "name": "stdout",
          "text": [
            "\n",
            "      Epoch    GPU_mem   box_loss   cls_loss   dfl_loss  Instances       Size\n"
          ]
        },
        {
          "output_type": "stream",
          "name": "stderr",
          "text": [
            "     35/100       9.4G      1.253       1.14       1.09        383        640: 100%|██████████| 44/44 [01:13<00:00,  1.68s/it]\n",
            "                 Class     Images  Instances      Box(P          R      mAP50  mAP50-95): 100%|██████████| 1/1 [00:00<00:00,  1.19it/s]"
          ]
        },
        {
          "output_type": "stream",
          "name": "stdout",
          "text": [
            "                   all         72        624      0.918       0.95       0.96      0.603\n"
          ]
        },
        {
          "output_type": "stream",
          "name": "stderr",
          "text": [
            "\n"
          ]
        },
        {
          "output_type": "stream",
          "name": "stdout",
          "text": [
            "\n",
            "      Epoch    GPU_mem   box_loss   cls_loss   dfl_loss  Instances       Size\n"
          ]
        },
        {
          "output_type": "stream",
          "name": "stderr",
          "text": [
            "     36/100      9.28G      1.254       1.14      1.085        344        640: 100%|██████████| 44/44 [01:11<00:00,  1.63s/it]\n",
            "                 Class     Images  Instances      Box(P          R      mAP50  mAP50-95): 100%|██████████| 1/1 [00:00<00:00,  1.25it/s]"
          ]
        },
        {
          "output_type": "stream",
          "name": "stdout",
          "text": [
            "                   all         72        624      0.906      0.942      0.957      0.617\n"
          ]
        },
        {
          "output_type": "stream",
          "name": "stderr",
          "text": [
            "\n"
          ]
        },
        {
          "output_type": "stream",
          "name": "stdout",
          "text": [
            "\u001b[34m\u001b[1mUltralytics HUB: \u001b[0mUploading checkpoint https://hub.ultralytics.com/models/IXuE5VySRymfw8Nzqk58\n",
            "\n",
            "      Epoch    GPU_mem   box_loss   cls_loss   dfl_loss  Instances       Size\n"
          ]
        },
        {
          "output_type": "stream",
          "name": "stderr",
          "text": [
            "     37/100      9.21G      1.244      1.142      1.083        336        640: 100%|██████████| 44/44 [01:10<00:00,  1.61s/it]\n",
            "                 Class     Images  Instances      Box(P          R      mAP50  mAP50-95): 100%|██████████| 1/1 [00:01<00:00,  1.40s/it]"
          ]
        },
        {
          "output_type": "stream",
          "name": "stdout",
          "text": [
            "                   all         72        624      0.912      0.939      0.964      0.619\n"
          ]
        },
        {
          "output_type": "stream",
          "name": "stderr",
          "text": [
            "\n"
          ]
        },
        {
          "output_type": "stream",
          "name": "stdout",
          "text": [
            "\n",
            "      Epoch    GPU_mem   box_loss   cls_loss   dfl_loss  Instances       Size\n"
          ]
        },
        {
          "output_type": "stream",
          "name": "stderr",
          "text": [
            "     38/100      9.33G      1.235      1.141      1.077        348        640: 100%|██████████| 44/44 [01:13<00:00,  1.66s/it]\n",
            "                 Class     Images  Instances      Box(P          R      mAP50  mAP50-95): 100%|██████████| 1/1 [00:00<00:00,  1.17it/s]"
          ]
        },
        {
          "output_type": "stream",
          "name": "stdout",
          "text": [
            "                   all         72        624      0.919      0.945      0.969      0.623\n"
          ]
        },
        {
          "output_type": "stream",
          "name": "stderr",
          "text": [
            "\n"
          ]
        },
        {
          "output_type": "stream",
          "name": "stdout",
          "text": [
            "\n",
            "      Epoch    GPU_mem   box_loss   cls_loss   dfl_loss  Instances       Size\n"
          ]
        },
        {
          "output_type": "stream",
          "name": "stderr",
          "text": [
            "     39/100      9.08G      1.231      1.134      1.076        322        640: 100%|██████████| 44/44 [01:11<00:00,  1.63s/it]\n",
            "                 Class     Images  Instances      Box(P          R      mAP50  mAP50-95): 100%|██████████| 1/1 [00:01<00:00,  1.20s/it]"
          ]
        },
        {
          "output_type": "stream",
          "name": "stdout",
          "text": [
            "                   all         72        624      0.894      0.944      0.961      0.615\n"
          ]
        },
        {
          "output_type": "stream",
          "name": "stderr",
          "text": [
            "\n"
          ]
        },
        {
          "output_type": "stream",
          "name": "stdout",
          "text": [
            "\n",
            "      Epoch    GPU_mem   box_loss   cls_loss   dfl_loss  Instances       Size\n"
          ]
        },
        {
          "output_type": "stream",
          "name": "stderr",
          "text": [
            "     40/100      9.22G      1.243      1.174      1.086        294        640: 100%|██████████| 44/44 [01:13<00:00,  1.67s/it]\n",
            "                 Class     Images  Instances      Box(P          R      mAP50  mAP50-95): 100%|██████████| 1/1 [00:00<00:00,  1.28it/s]"
          ]
        },
        {
          "output_type": "stream",
          "name": "stdout",
          "text": [
            "                   all         72        624      0.919      0.928      0.961      0.618\n"
          ]
        },
        {
          "output_type": "stream",
          "name": "stderr",
          "text": [
            "\n"
          ]
        },
        {
          "output_type": "stream",
          "name": "stdout",
          "text": [
            "\n",
            "      Epoch    GPU_mem   box_loss   cls_loss   dfl_loss  Instances       Size\n"
          ]
        },
        {
          "output_type": "stream",
          "name": "stderr",
          "text": [
            "     41/100      9.29G      1.224       1.11      1.076        257        640: 100%|██████████| 44/44 [01:12<00:00,  1.65s/it]\n",
            "                 Class     Images  Instances      Box(P          R      mAP50  mAP50-95): 100%|██████████| 1/1 [00:01<00:00,  1.12s/it]"
          ]
        },
        {
          "output_type": "stream",
          "name": "stdout",
          "text": [
            "                   all         72        624      0.909      0.937      0.966      0.626\n"
          ]
        },
        {
          "output_type": "stream",
          "name": "stderr",
          "text": [
            "\n"
          ]
        },
        {
          "output_type": "stream",
          "name": "stdout",
          "text": [
            "\n",
            "      Epoch    GPU_mem   box_loss   cls_loss   dfl_loss  Instances       Size\n"
          ]
        },
        {
          "output_type": "stream",
          "name": "stderr",
          "text": [
            "     42/100      9.33G      1.229      1.127      1.076        418        640: 100%|██████████| 44/44 [01:10<00:00,  1.60s/it]\n",
            "                 Class     Images  Instances      Box(P          R      mAP50  mAP50-95): 100%|██████████| 1/1 [00:00<00:00,  1.15it/s]"
          ]
        },
        {
          "output_type": "stream",
          "name": "stdout",
          "text": [
            "                   all         72        624      0.913      0.942      0.964      0.632\n"
          ]
        },
        {
          "output_type": "stream",
          "name": "stderr",
          "text": [
            "\n"
          ]
        },
        {
          "output_type": "stream",
          "name": "stdout",
          "text": [
            "\n",
            "      Epoch    GPU_mem   box_loss   cls_loss   dfl_loss  Instances       Size\n"
          ]
        },
        {
          "output_type": "stream",
          "name": "stderr",
          "text": [
            "     43/100      9.28G      1.228      1.125       1.08        366        640: 100%|██████████| 44/44 [01:13<00:00,  1.67s/it]\n",
            "                 Class     Images  Instances      Box(P          R      mAP50  mAP50-95): 100%|██████████| 1/1 [00:00<00:00,  1.22it/s]"
          ]
        },
        {
          "output_type": "stream",
          "name": "stdout",
          "text": [
            "                   all         72        624      0.924      0.954      0.973      0.631\n"
          ]
        },
        {
          "output_type": "stream",
          "name": "stderr",
          "text": [
            "\n"
          ]
        },
        {
          "output_type": "stream",
          "name": "stdout",
          "text": [
            "\n",
            "      Epoch    GPU_mem   box_loss   cls_loss   dfl_loss  Instances       Size\n"
          ]
        },
        {
          "output_type": "stream",
          "name": "stderr",
          "text": [
            "     44/100      9.41G      1.216      1.115      1.073        330        640: 100%|██████████| 44/44 [01:10<00:00,  1.60s/it]\n",
            "                 Class     Images  Instances      Box(P          R      mAP50  mAP50-95): 100%|██████████| 1/1 [00:01<00:00,  1.06s/it]"
          ]
        },
        {
          "output_type": "stream",
          "name": "stdout",
          "text": [
            "                   all         72        624      0.925      0.927      0.966       0.63\n"
          ]
        },
        {
          "output_type": "stream",
          "name": "stderr",
          "text": [
            "\n"
          ]
        },
        {
          "output_type": "stream",
          "name": "stdout",
          "text": [
            "\n",
            "      Epoch    GPU_mem   box_loss   cls_loss   dfl_loss  Instances       Size\n"
          ]
        },
        {
          "output_type": "stream",
          "name": "stderr",
          "text": [
            "     45/100      9.46G      1.223       1.14      1.073        335        640: 100%|██████████| 44/44 [01:09<00:00,  1.58s/it]\n",
            "                 Class     Images  Instances      Box(P          R      mAP50  mAP50-95): 100%|██████████| 1/1 [00:00<00:00,  1.21it/s]"
          ]
        },
        {
          "output_type": "stream",
          "name": "stdout",
          "text": [
            "                   all         72        624      0.929      0.942      0.967      0.634\n"
          ]
        },
        {
          "output_type": "stream",
          "name": "stderr",
          "text": [
            "\n"
          ]
        },
        {
          "output_type": "stream",
          "name": "stdout",
          "text": [
            "\n",
            "      Epoch    GPU_mem   box_loss   cls_loss   dfl_loss  Instances       Size\n"
          ]
        },
        {
          "output_type": "stream",
          "name": "stderr",
          "text": [
            "     46/100      9.37G      1.204      1.108      1.066        424        640: 100%|██████████| 44/44 [01:09<00:00,  1.57s/it]\n",
            "                 Class     Images  Instances      Box(P          R      mAP50  mAP50-95): 100%|██████████| 1/1 [00:00<00:00,  1.31it/s]"
          ]
        },
        {
          "output_type": "stream",
          "name": "stdout",
          "text": [
            "                   all         72        624      0.935      0.957      0.973       0.65\n"
          ]
        },
        {
          "output_type": "stream",
          "name": "stderr",
          "text": [
            "\n"
          ]
        },
        {
          "output_type": "stream",
          "name": "stdout",
          "text": [
            "\n",
            "      Epoch    GPU_mem   box_loss   cls_loss   dfl_loss  Instances       Size\n"
          ]
        },
        {
          "output_type": "stream",
          "name": "stderr",
          "text": [
            "     47/100      9.17G       1.21      1.103       1.07        480        640: 100%|██████████| 44/44 [01:08<00:00,  1.57s/it]\n",
            "                 Class     Images  Instances      Box(P          R      mAP50  mAP50-95): 100%|██████████| 1/1 [00:00<00:00,  1.21it/s]"
          ]
        },
        {
          "output_type": "stream",
          "name": "stdout",
          "text": [
            "                   all         72        624       0.92      0.949      0.968      0.635\n"
          ]
        },
        {
          "output_type": "stream",
          "name": "stderr",
          "text": [
            "\n"
          ]
        },
        {
          "output_type": "stream",
          "name": "stdout",
          "text": [
            "\n",
            "      Epoch    GPU_mem   box_loss   cls_loss   dfl_loss  Instances       Size\n"
          ]
        },
        {
          "output_type": "stream",
          "name": "stderr",
          "text": [
            "     48/100      9.25G      1.199      1.114      1.063        291        640: 100%|██████████| 44/44 [01:09<00:00,  1.59s/it]\n",
            "                 Class     Images  Instances      Box(P          R      mAP50  mAP50-95): 100%|██████████| 1/1 [00:01<00:00,  1.39s/it]"
          ]
        },
        {
          "output_type": "stream",
          "name": "stdout",
          "text": [
            "                   all         72        624      0.944      0.957      0.977      0.643\n"
          ]
        },
        {
          "output_type": "stream",
          "name": "stderr",
          "text": [
            "\n"
          ]
        },
        {
          "output_type": "stream",
          "name": "stdout",
          "text": [
            "\n",
            "      Epoch    GPU_mem   box_loss   cls_loss   dfl_loss  Instances       Size\n"
          ]
        },
        {
          "output_type": "stream",
          "name": "stderr",
          "text": [
            "     49/100      9.37G      1.198      1.112      1.062        383        640: 100%|██████████| 44/44 [01:10<00:00,  1.60s/it]\n",
            "                 Class     Images  Instances      Box(P          R      mAP50  mAP50-95): 100%|██████████| 1/1 [00:00<00:00,  1.32it/s]"
          ]
        },
        {
          "output_type": "stream",
          "name": "stdout",
          "text": [
            "                   all         72        624       0.93      0.946      0.974      0.646\n"
          ]
        },
        {
          "output_type": "stream",
          "name": "stderr",
          "text": [
            "\n"
          ]
        },
        {
          "output_type": "stream",
          "name": "stdout",
          "text": [
            "\u001b[34m\u001b[1mUltralytics HUB: \u001b[0mUploading checkpoint https://hub.ultralytics.com/models/IXuE5VySRymfw8Nzqk58\n",
            "\n",
            "      Epoch    GPU_mem   box_loss   cls_loss   dfl_loss  Instances       Size\n"
          ]
        },
        {
          "output_type": "stream",
          "name": "stderr",
          "text": [
            "     50/100      9.32G      1.203      1.119      1.067        269        640: 100%|██████████| 44/44 [01:08<00:00,  1.56s/it]\n",
            "                 Class     Images  Instances      Box(P          R      mAP50  mAP50-95): 100%|██████████| 1/1 [00:00<00:00,  1.44it/s]"
          ]
        },
        {
          "output_type": "stream",
          "name": "stdout",
          "text": [
            "                   all         72        624      0.923      0.952      0.964      0.653\n"
          ]
        },
        {
          "output_type": "stream",
          "name": "stderr",
          "text": [
            "\n"
          ]
        },
        {
          "output_type": "stream",
          "name": "stdout",
          "text": [
            "\n",
            "      Epoch    GPU_mem   box_loss   cls_loss   dfl_loss  Instances       Size\n"
          ]
        },
        {
          "output_type": "stream",
          "name": "stderr",
          "text": [
            "     51/100      9.16G      1.194      1.104      1.064        388        640: 100%|██████████| 44/44 [01:08<00:00,  1.55s/it]\n",
            "                 Class     Images  Instances      Box(P          R      mAP50  mAP50-95): 100%|██████████| 1/1 [00:01<00:00,  1.18s/it]"
          ]
        },
        {
          "output_type": "stream",
          "name": "stdout",
          "text": [
            "                   all         72        624       0.92      0.968      0.976      0.653\n"
          ]
        },
        {
          "output_type": "stream",
          "name": "stderr",
          "text": [
            "\n"
          ]
        },
        {
          "output_type": "stream",
          "name": "stdout",
          "text": [
            "\n",
            "      Epoch    GPU_mem   box_loss   cls_loss   dfl_loss  Instances       Size\n"
          ]
        },
        {
          "output_type": "stream",
          "name": "stderr",
          "text": [
            "     52/100      9.05G      1.189      1.096      1.059        410        640: 100%|██████████| 44/44 [01:09<00:00,  1.57s/it]\n",
            "                 Class     Images  Instances      Box(P          R      mAP50  mAP50-95): 100%|██████████| 1/1 [00:01<00:00,  1.54s/it]"
          ]
        },
        {
          "output_type": "stream",
          "name": "stdout",
          "text": [
            "                   all         72        624      0.942       0.95      0.976      0.647\n"
          ]
        },
        {
          "output_type": "stream",
          "name": "stderr",
          "text": [
            "\n"
          ]
        },
        {
          "output_type": "stream",
          "name": "stdout",
          "text": [
            "\n",
            "      Epoch    GPU_mem   box_loss   cls_loss   dfl_loss  Instances       Size\n"
          ]
        },
        {
          "output_type": "stream",
          "name": "stderr",
          "text": [
            "     53/100      9.18G      1.193      1.104      1.066        392        640: 100%|██████████| 44/44 [01:09<00:00,  1.57s/it]\n",
            "                 Class     Images  Instances      Box(P          R      mAP50  mAP50-95): 100%|██████████| 1/1 [00:00<00:00,  1.22it/s]"
          ]
        },
        {
          "output_type": "stream",
          "name": "stdout",
          "text": [
            "                   all         72        624      0.912       0.96      0.965      0.644\n"
          ]
        },
        {
          "output_type": "stream",
          "name": "stderr",
          "text": [
            "\n"
          ]
        },
        {
          "output_type": "stream",
          "name": "stdout",
          "text": [
            "\n",
            "      Epoch    GPU_mem   box_loss   cls_loss   dfl_loss  Instances       Size\n"
          ]
        },
        {
          "output_type": "stream",
          "name": "stderr",
          "text": [
            "     54/100      9.06G       1.19      1.112      1.059        338        640: 100%|██████████| 44/44 [01:08<00:00,  1.56s/it]\n",
            "                 Class     Images  Instances      Box(P          R      mAP50  mAP50-95): 100%|██████████| 1/1 [00:00<00:00,  1.29it/s]"
          ]
        },
        {
          "output_type": "stream",
          "name": "stdout",
          "text": [
            "                   all         72        624      0.939      0.958      0.975      0.649\n"
          ]
        },
        {
          "output_type": "stream",
          "name": "stderr",
          "text": [
            "\n"
          ]
        },
        {
          "output_type": "stream",
          "name": "stdout",
          "text": [
            "\n",
            "      Epoch    GPU_mem   box_loss   cls_loss   dfl_loss  Instances       Size\n"
          ]
        },
        {
          "output_type": "stream",
          "name": "stderr",
          "text": [
            "     55/100      9.28G      1.189      1.107       1.06        385        640: 100%|██████████| 44/44 [01:09<00:00,  1.59s/it]\n",
            "                 Class     Images  Instances      Box(P          R      mAP50  mAP50-95): 100%|██████████| 1/1 [00:01<00:00,  1.21s/it]"
          ]
        },
        {
          "output_type": "stream",
          "name": "stdout",
          "text": [
            "                   all         72        624      0.928      0.917      0.964      0.631\n"
          ]
        },
        {
          "output_type": "stream",
          "name": "stderr",
          "text": [
            "\n"
          ]
        },
        {
          "output_type": "stream",
          "name": "stdout",
          "text": [
            "\n",
            "      Epoch    GPU_mem   box_loss   cls_loss   dfl_loss  Instances       Size\n"
          ]
        },
        {
          "output_type": "stream",
          "name": "stderr",
          "text": [
            "     56/100      9.06G      1.183      1.106      1.056        327        640: 100%|██████████| 44/44 [01:11<00:00,  1.62s/it]\n",
            "                 Class     Images  Instances      Box(P          R      mAP50  mAP50-95): 100%|██████████| 1/1 [00:00<00:00,  1.13it/s]"
          ]
        },
        {
          "output_type": "stream",
          "name": "stdout",
          "text": [
            "                   all         72        624       0.93       0.96      0.975      0.661\n"
          ]
        },
        {
          "output_type": "stream",
          "name": "stderr",
          "text": [
            "\n"
          ]
        },
        {
          "output_type": "stream",
          "name": "stdout",
          "text": [
            "\n",
            "      Epoch    GPU_mem   box_loss   cls_loss   dfl_loss  Instances       Size\n"
          ]
        },
        {
          "output_type": "stream",
          "name": "stderr",
          "text": [
            "     57/100      9.38G      1.168      1.091      1.052        398        640: 100%|██████████| 44/44 [01:09<00:00,  1.58s/it]\n",
            "                 Class     Images  Instances      Box(P          R      mAP50  mAP50-95): 100%|██████████| 1/1 [00:00<00:00,  1.17it/s]"
          ]
        },
        {
          "output_type": "stream",
          "name": "stdout",
          "text": [
            "                   all         72        624      0.939      0.959      0.979      0.663\n"
          ]
        },
        {
          "output_type": "stream",
          "name": "stderr",
          "text": [
            "\n"
          ]
        },
        {
          "output_type": "stream",
          "name": "stdout",
          "text": [
            "\n",
            "      Epoch    GPU_mem   box_loss   cls_loss   dfl_loss  Instances       Size\n"
          ]
        },
        {
          "output_type": "stream",
          "name": "stderr",
          "text": [
            "     58/100      9.03G      1.174      1.096      1.051        410        640: 100%|██████████| 44/44 [01:11<00:00,  1.62s/it]\n",
            "                 Class     Images  Instances      Box(P          R      mAP50  mAP50-95): 100%|██████████| 1/1 [00:01<00:00,  1.33s/it]"
          ]
        },
        {
          "output_type": "stream",
          "name": "stdout",
          "text": [
            "                   all         72        624      0.939      0.953      0.978      0.662\n"
          ]
        },
        {
          "output_type": "stream",
          "name": "stderr",
          "text": [
            "\n"
          ]
        },
        {
          "output_type": "stream",
          "name": "stdout",
          "text": [
            "\n",
            "      Epoch    GPU_mem   box_loss   cls_loss   dfl_loss  Instances       Size\n"
          ]
        },
        {
          "output_type": "stream",
          "name": "stderr",
          "text": [
            "     59/100      9.41G      1.168      1.106      1.051        356        640: 100%|██████████| 44/44 [01:10<00:00,  1.60s/it]\n",
            "                 Class     Images  Instances      Box(P          R      mAP50  mAP50-95): 100%|██████████| 1/1 [00:00<00:00,  1.31it/s]"
          ]
        },
        {
          "output_type": "stream",
          "name": "stdout",
          "text": [
            "                   all         72        624      0.938      0.948      0.978       0.66\n"
          ]
        },
        {
          "output_type": "stream",
          "name": "stderr",
          "text": [
            "\n"
          ]
        },
        {
          "output_type": "stream",
          "name": "stdout",
          "text": [
            "\n",
            "      Epoch    GPU_mem   box_loss   cls_loss   dfl_loss  Instances       Size\n"
          ]
        },
        {
          "output_type": "stream",
          "name": "stderr",
          "text": [
            "     60/100      9.37G       1.15      1.062      1.044        279        640: 100%|██████████| 44/44 [01:09<00:00,  1.58s/it]\n",
            "                 Class     Images  Instances      Box(P          R      mAP50  mAP50-95): 100%|██████████| 1/1 [00:00<00:00,  1.19it/s]"
          ]
        },
        {
          "output_type": "stream",
          "name": "stdout",
          "text": [
            "                   all         72        624      0.944      0.957      0.979       0.66\n"
          ]
        },
        {
          "output_type": "stream",
          "name": "stderr",
          "text": [
            "\n"
          ]
        },
        {
          "output_type": "stream",
          "name": "stdout",
          "text": [
            "\n",
            "      Epoch    GPU_mem   box_loss   cls_loss   dfl_loss  Instances       Size\n"
          ]
        },
        {
          "output_type": "stream",
          "name": "stderr",
          "text": [
            "     61/100      9.44G      1.162      1.105      1.047        357        640: 100%|██████████| 44/44 [01:10<00:00,  1.61s/it]\n",
            "                 Class     Images  Instances      Box(P          R      mAP50  mAP50-95): 100%|██████████| 1/1 [00:01<00:00,  1.55s/it]"
          ]
        },
        {
          "output_type": "stream",
          "name": "stdout",
          "text": [
            "                   all         72        624      0.943      0.955      0.974      0.663\n"
          ]
        },
        {
          "output_type": "stream",
          "name": "stderr",
          "text": [
            "\n"
          ]
        },
        {
          "output_type": "stream",
          "name": "stdout",
          "text": [
            "\n",
            "      Epoch    GPU_mem   box_loss   cls_loss   dfl_loss  Instances       Size\n"
          ]
        },
        {
          "output_type": "stream",
          "name": "stderr",
          "text": [
            "     62/100      9.32G      1.152      1.067      1.043        355        640: 100%|██████████| 44/44 [01:10<00:00,  1.60s/it]\n",
            "                 Class     Images  Instances      Box(P          R      mAP50  mAP50-95): 100%|██████████| 1/1 [00:00<00:00,  1.18it/s]"
          ]
        },
        {
          "output_type": "stream",
          "name": "stdout",
          "text": [
            "                   all         72        624      0.941      0.964      0.978      0.661\n"
          ]
        },
        {
          "output_type": "stream",
          "name": "stderr",
          "text": [
            "\n"
          ]
        },
        {
          "output_type": "stream",
          "name": "stdout",
          "text": [
            "\u001b[34m\u001b[1mUltralytics HUB: \u001b[0mUploading checkpoint https://hub.ultralytics.com/models/IXuE5VySRymfw8Nzqk58\n",
            "\n",
            "      Epoch    GPU_mem   box_loss   cls_loss   dfl_loss  Instances       Size\n"
          ]
        },
        {
          "output_type": "stream",
          "name": "stderr",
          "text": [
            "     63/100      9.36G      1.145      1.092      1.045        311        640: 100%|██████████| 44/44 [01:10<00:00,  1.60s/it]\n",
            "                 Class     Images  Instances      Box(P          R      mAP50  mAP50-95): 100%|██████████| 1/1 [00:00<00:00,  1.21it/s]"
          ]
        },
        {
          "output_type": "stream",
          "name": "stdout",
          "text": [
            "                   all         72        624      0.929      0.972      0.978      0.667\n"
          ]
        },
        {
          "output_type": "stream",
          "name": "stderr",
          "text": [
            "\n"
          ]
        },
        {
          "output_type": "stream",
          "name": "stdout",
          "text": [
            "\n",
            "      Epoch    GPU_mem   box_loss   cls_loss   dfl_loss  Instances       Size\n"
          ]
        },
        {
          "output_type": "stream",
          "name": "stderr",
          "text": [
            "     64/100      9.11G      1.146      1.068      1.042        387        640: 100%|██████████| 44/44 [01:11<00:00,  1.62s/it]\n",
            "                 Class     Images  Instances      Box(P          R      mAP50  mAP50-95): 100%|██████████| 1/1 [00:01<00:00,  1.14s/it]"
          ]
        },
        {
          "output_type": "stream",
          "name": "stdout",
          "text": [
            "                   all         72        624      0.932      0.963      0.975      0.664\n"
          ]
        },
        {
          "output_type": "stream",
          "name": "stderr",
          "text": [
            "\n"
          ]
        },
        {
          "output_type": "stream",
          "name": "stdout",
          "text": [
            "\n",
            "      Epoch    GPU_mem   box_loss   cls_loss   dfl_loss  Instances       Size\n"
          ]
        },
        {
          "output_type": "stream",
          "name": "stderr",
          "text": [
            "     65/100      9.34G       1.14      1.051      1.037        395        640: 100%|██████████| 44/44 [01:10<00:00,  1.61s/it]\n",
            "                 Class     Images  Instances      Box(P          R      mAP50  mAP50-95): 100%|██████████| 1/1 [00:00<00:00,  1.32it/s]"
          ]
        },
        {
          "output_type": "stream",
          "name": "stdout",
          "text": [
            "                   all         72        624      0.935      0.962      0.979      0.673\n"
          ]
        },
        {
          "output_type": "stream",
          "name": "stderr",
          "text": [
            "\n"
          ]
        },
        {
          "output_type": "stream",
          "name": "stdout",
          "text": [
            "\n",
            "      Epoch    GPU_mem   box_loss   cls_loss   dfl_loss  Instances       Size\n"
          ]
        },
        {
          "output_type": "stream",
          "name": "stderr",
          "text": [
            "     66/100      9.37G      1.144      1.092      1.042        262        640: 100%|██████████| 44/44 [01:09<00:00,  1.58s/it]\n",
            "                 Class     Images  Instances      Box(P          R      mAP50  mAP50-95): 100%|██████████| 1/1 [00:00<00:00,  1.23it/s]"
          ]
        },
        {
          "output_type": "stream",
          "name": "stdout",
          "text": [
            "                   all         72        624      0.928      0.961      0.978      0.673\n"
          ]
        },
        {
          "output_type": "stream",
          "name": "stderr",
          "text": [
            "\n"
          ]
        },
        {
          "output_type": "stream",
          "name": "stdout",
          "text": [
            "\n",
            "      Epoch    GPU_mem   box_loss   cls_loss   dfl_loss  Instances       Size\n"
          ]
        },
        {
          "output_type": "stream",
          "name": "stderr",
          "text": [
            "     67/100      9.26G      1.146      1.067      1.041        300        640: 100%|██████████| 44/44 [01:09<00:00,  1.58s/it]\n",
            "                 Class     Images  Instances      Box(P          R      mAP50  mAP50-95): 100%|██████████| 1/1 [00:00<00:00,  1.20it/s]"
          ]
        },
        {
          "output_type": "stream",
          "name": "stdout",
          "text": [
            "                   all         72        624       0.93      0.958      0.978      0.676\n"
          ]
        },
        {
          "output_type": "stream",
          "name": "stderr",
          "text": [
            "\n"
          ]
        },
        {
          "output_type": "stream",
          "name": "stdout",
          "text": [
            "\n",
            "      Epoch    GPU_mem   box_loss   cls_loss   dfl_loss  Instances       Size\n"
          ]
        },
        {
          "output_type": "stream",
          "name": "stderr",
          "text": [
            "     68/100      9.41G      1.129      1.048       1.03        382        640: 100%|██████████| 44/44 [01:09<00:00,  1.58s/it]\n",
            "                 Class     Images  Instances      Box(P          R      mAP50  mAP50-95): 100%|██████████| 1/1 [00:01<00:00,  1.37s/it]"
          ]
        },
        {
          "output_type": "stream",
          "name": "stdout",
          "text": [
            "                   all         72        624      0.931      0.958      0.976      0.682\n"
          ]
        },
        {
          "output_type": "stream",
          "name": "stderr",
          "text": [
            "\n"
          ]
        },
        {
          "output_type": "stream",
          "name": "stdout",
          "text": [
            "\n",
            "      Epoch    GPU_mem   box_loss   cls_loss   dfl_loss  Instances       Size\n"
          ]
        },
        {
          "output_type": "stream",
          "name": "stderr",
          "text": [
            "     69/100      9.41G      1.131      1.052      1.036        356        640: 100%|██████████| 44/44 [01:09<00:00,  1.58s/it]\n",
            "                 Class     Images  Instances      Box(P          R      mAP50  mAP50-95): 100%|██████████| 1/1 [00:00<00:00,  1.46it/s]"
          ]
        },
        {
          "output_type": "stream",
          "name": "stdout",
          "text": [
            "                   all         72        624       0.94      0.969      0.981      0.683\n"
          ]
        },
        {
          "output_type": "stream",
          "name": "stderr",
          "text": [
            "\n"
          ]
        },
        {
          "output_type": "stream",
          "name": "stdout",
          "text": [
            "\n",
            "      Epoch    GPU_mem   box_loss   cls_loss   dfl_loss  Instances       Size\n"
          ]
        },
        {
          "output_type": "stream",
          "name": "stderr",
          "text": [
            "     70/100      9.25G      1.128      1.038      1.034        276        640: 100%|██████████| 44/44 [01:09<00:00,  1.57s/it]\n",
            "                 Class     Images  Instances      Box(P          R      mAP50  mAP50-95): 100%|██████████| 1/1 [00:00<00:00,  1.12it/s]"
          ]
        },
        {
          "output_type": "stream",
          "name": "stdout",
          "text": [
            "                   all         72        624      0.936      0.968       0.98      0.675\n"
          ]
        },
        {
          "output_type": "stream",
          "name": "stderr",
          "text": [
            "\n"
          ]
        },
        {
          "output_type": "stream",
          "name": "stdout",
          "text": [
            "\n",
            "      Epoch    GPU_mem   box_loss   cls_loss   dfl_loss  Instances       Size\n"
          ]
        },
        {
          "output_type": "stream",
          "name": "stderr",
          "text": [
            "     71/100      9.11G       1.13      1.079      1.031        327        640: 100%|██████████| 44/44 [01:10<00:00,  1.60s/it]\n",
            "                 Class     Images  Instances      Box(P          R      mAP50  mAP50-95): 100%|██████████| 1/1 [00:01<00:00,  1.33s/it]"
          ]
        },
        {
          "output_type": "stream",
          "name": "stdout",
          "text": [
            "                   all         72        624      0.935      0.957      0.978      0.682\n"
          ]
        },
        {
          "output_type": "stream",
          "name": "stderr",
          "text": [
            "\n"
          ]
        },
        {
          "output_type": "stream",
          "name": "stdout",
          "text": [
            "\n",
            "      Epoch    GPU_mem   box_loss   cls_loss   dfl_loss  Instances       Size\n"
          ]
        },
        {
          "output_type": "stream",
          "name": "stderr",
          "text": [
            "     72/100       9.2G      1.118      1.057      1.033        263        640: 100%|██████████| 44/44 [01:10<00:00,  1.61s/it]\n",
            "                 Class     Images  Instances      Box(P          R      mAP50  mAP50-95): 100%|██████████| 1/1 [00:00<00:00,  1.26it/s]"
          ]
        },
        {
          "output_type": "stream",
          "name": "stdout",
          "text": [
            "                   all         72        624      0.935      0.964      0.981      0.685\n"
          ]
        },
        {
          "output_type": "stream",
          "name": "stderr",
          "text": [
            "\n"
          ]
        },
        {
          "output_type": "stream",
          "name": "stdout",
          "text": [
            "\n",
            "      Epoch    GPU_mem   box_loss   cls_loss   dfl_loss  Instances       Size\n"
          ]
        },
        {
          "output_type": "stream",
          "name": "stderr",
          "text": [
            "     73/100      9.09G      1.123      1.066      1.034        373        640: 100%|██████████| 44/44 [01:09<00:00,  1.59s/it]\n",
            "                 Class     Images  Instances      Box(P          R      mAP50  mAP50-95): 100%|██████████| 1/1 [00:00<00:00,  1.15it/s]"
          ]
        },
        {
          "output_type": "stream",
          "name": "stdout",
          "text": [
            "                   all         72        624      0.936      0.969      0.982       0.68\n"
          ]
        },
        {
          "output_type": "stream",
          "name": "stderr",
          "text": [
            "\n"
          ]
        },
        {
          "output_type": "stream",
          "name": "stdout",
          "text": [
            "\n",
            "      Epoch    GPU_mem   box_loss   cls_loss   dfl_loss  Instances       Size\n"
          ]
        },
        {
          "output_type": "stream",
          "name": "stderr",
          "text": [
            "     74/100      9.37G      1.108      1.055      1.028        415        640: 100%|██████████| 44/44 [01:10<00:00,  1.60s/it]\n",
            "                 Class     Images  Instances      Box(P          R      mAP50  mAP50-95): 100%|██████████| 1/1 [00:00<00:00,  1.22it/s]"
          ]
        },
        {
          "output_type": "stream",
          "name": "stdout",
          "text": [
            "                   all         72        624      0.943      0.968      0.983      0.685\n"
          ]
        },
        {
          "output_type": "stream",
          "name": "stderr",
          "text": [
            "\n"
          ]
        },
        {
          "output_type": "stream",
          "name": "stdout",
          "text": [
            "\n",
            "      Epoch    GPU_mem   box_loss   cls_loss   dfl_loss  Instances       Size\n"
          ]
        },
        {
          "output_type": "stream",
          "name": "stderr",
          "text": [
            "     75/100       9.2G      1.111       1.05      1.027        397        640: 100%|██████████| 44/44 [01:09<00:00,  1.58s/it]\n",
            "                 Class     Images  Instances      Box(P          R      mAP50  mAP50-95): 100%|██████████| 1/1 [00:00<00:00,  1.22it/s]"
          ]
        },
        {
          "output_type": "stream",
          "name": "stdout",
          "text": [
            "                   all         72        624      0.938      0.962       0.98      0.688\n"
          ]
        },
        {
          "output_type": "stream",
          "name": "stderr",
          "text": [
            "\n"
          ]
        },
        {
          "output_type": "stream",
          "name": "stdout",
          "text": [
            "\u001b[34m\u001b[1mUltralytics HUB: \u001b[0mUploading checkpoint https://hub.ultralytics.com/models/IXuE5VySRymfw8Nzqk58\n",
            "\n",
            "      Epoch    GPU_mem   box_loss   cls_loss   dfl_loss  Instances       Size\n"
          ]
        },
        {
          "output_type": "stream",
          "name": "stderr",
          "text": [
            "     76/100      9.31G      1.111      1.067      1.028        365        640: 100%|██████████| 44/44 [01:10<00:00,  1.61s/it]\n",
            "                 Class     Images  Instances      Box(P          R      mAP50  mAP50-95): 100%|██████████| 1/1 [00:01<00:00,  1.29s/it]"
          ]
        },
        {
          "output_type": "stream",
          "name": "stdout",
          "text": [
            "                   all         72        624      0.936      0.975      0.982      0.693\n"
          ]
        },
        {
          "output_type": "stream",
          "name": "stderr",
          "text": [
            "\n"
          ]
        },
        {
          "output_type": "stream",
          "name": "stdout",
          "text": [
            "\n",
            "      Epoch    GPU_mem   box_loss   cls_loss   dfl_loss  Instances       Size\n"
          ]
        },
        {
          "output_type": "stream",
          "name": "stderr",
          "text": [
            "     77/100      9.34G      1.103      1.058      1.021        349        640: 100%|██████████| 44/44 [01:11<00:00,  1.63s/it]\n",
            "                 Class     Images  Instances      Box(P          R      mAP50  mAP50-95): 100%|██████████| 1/1 [00:00<00:00,  1.26it/s]"
          ]
        },
        {
          "output_type": "stream",
          "name": "stdout",
          "text": [
            "                   all         72        624      0.947      0.965      0.984      0.693\n"
          ]
        },
        {
          "output_type": "stream",
          "name": "stderr",
          "text": [
            "\n"
          ]
        },
        {
          "output_type": "stream",
          "name": "stdout",
          "text": [
            "\n",
            "      Epoch    GPU_mem   box_loss   cls_loss   dfl_loss  Instances       Size\n"
          ]
        },
        {
          "output_type": "stream",
          "name": "stderr",
          "text": [
            "     78/100      9.34G      1.104       1.05      1.026        396        640: 100%|██████████| 44/44 [01:09<00:00,  1.59s/it]\n",
            "                 Class     Images  Instances      Box(P          R      mAP50  mAP50-95): 100%|██████████| 1/1 [00:00<00:00,  1.39it/s]"
          ]
        },
        {
          "output_type": "stream",
          "name": "stdout",
          "text": [
            "                   all         72        624      0.938      0.964      0.983      0.692\n"
          ]
        },
        {
          "output_type": "stream",
          "name": "stderr",
          "text": [
            "\n"
          ]
        },
        {
          "output_type": "stream",
          "name": "stdout",
          "text": [
            "\n",
            "      Epoch    GPU_mem   box_loss   cls_loss   dfl_loss  Instances       Size\n"
          ]
        },
        {
          "output_type": "stream",
          "name": "stderr",
          "text": [
            "     79/100      9.33G      1.092      1.056      1.016        369        640: 100%|██████████| 44/44 [01:09<00:00,  1.58s/it]\n",
            "                 Class     Images  Instances      Box(P          R      mAP50  mAP50-95): 100%|██████████| 1/1 [00:01<00:00,  1.27s/it]"
          ]
        },
        {
          "output_type": "stream",
          "name": "stdout",
          "text": [
            "                   all         72        624      0.934      0.967      0.976      0.691\n"
          ]
        },
        {
          "output_type": "stream",
          "name": "stderr",
          "text": [
            "\n"
          ]
        },
        {
          "output_type": "stream",
          "name": "stdout",
          "text": [
            "\n",
            "      Epoch    GPU_mem   box_loss   cls_loss   dfl_loss  Instances       Size\n"
          ]
        },
        {
          "output_type": "stream",
          "name": "stderr",
          "text": [
            "     80/100      9.19G       1.09      1.029      1.017        317        640: 100%|██████████| 44/44 [01:10<00:00,  1.59s/it]\n",
            "                 Class     Images  Instances      Box(P          R      mAP50  mAP50-95): 100%|██████████| 1/1 [00:00<00:00,  1.44it/s]"
          ]
        },
        {
          "output_type": "stream",
          "name": "stdout",
          "text": [
            "                   all         72        624      0.939      0.969      0.982      0.696\n"
          ]
        },
        {
          "output_type": "stream",
          "name": "stderr",
          "text": [
            "\n"
          ]
        },
        {
          "output_type": "stream",
          "name": "stdout",
          "text": [
            "\n",
            "      Epoch    GPU_mem   box_loss   cls_loss   dfl_loss  Instances       Size\n"
          ]
        },
        {
          "output_type": "stream",
          "name": "stderr",
          "text": [
            "     81/100      9.26G      1.095      1.051       1.02        345        640: 100%|██████████| 44/44 [01:10<00:00,  1.60s/it]\n",
            "                 Class     Images  Instances      Box(P          R      mAP50  mAP50-95): 100%|██████████| 1/1 [00:00<00:00,  1.25it/s]"
          ]
        },
        {
          "output_type": "stream",
          "name": "stdout",
          "text": [
            "                   all         72        624      0.937      0.971       0.98      0.695\n"
          ]
        },
        {
          "output_type": "stream",
          "name": "stderr",
          "text": [
            "\n"
          ]
        },
        {
          "output_type": "stream",
          "name": "stdout",
          "text": [
            "\n",
            "      Epoch    GPU_mem   box_loss   cls_loss   dfl_loss  Instances       Size\n"
          ]
        },
        {
          "output_type": "stream",
          "name": "stderr",
          "text": [
            "     82/100      9.19G      1.081       1.04      1.014        352        640: 100%|██████████| 44/44 [01:09<00:00,  1.57s/it]\n",
            "                 Class     Images  Instances      Box(P          R      mAP50  mAP50-95): 100%|██████████| 1/1 [00:01<00:00,  1.29s/it]"
          ]
        },
        {
          "output_type": "stream",
          "name": "stdout",
          "text": [
            "                   all         72        624      0.945      0.963      0.981      0.701\n"
          ]
        },
        {
          "output_type": "stream",
          "name": "stderr",
          "text": [
            "\n"
          ]
        },
        {
          "output_type": "stream",
          "name": "stdout",
          "text": [
            "\n",
            "      Epoch    GPU_mem   box_loss   cls_loss   dfl_loss  Instances       Size\n"
          ]
        },
        {
          "output_type": "stream",
          "name": "stderr",
          "text": [
            "     83/100      9.21G      1.075      1.041      1.014        299        640: 100%|██████████| 44/44 [01:10<00:00,  1.60s/it]\n",
            "                 Class     Images  Instances      Box(P          R      mAP50  mAP50-95): 100%|██████████| 1/1 [00:00<00:00,  1.22it/s]"
          ]
        },
        {
          "output_type": "stream",
          "name": "stdout",
          "text": [
            "                   all         72        624      0.938      0.965       0.98      0.697\n"
          ]
        },
        {
          "output_type": "stream",
          "name": "stderr",
          "text": [
            "\n"
          ]
        },
        {
          "output_type": "stream",
          "name": "stdout",
          "text": [
            "\n",
            "      Epoch    GPU_mem   box_loss   cls_loss   dfl_loss  Instances       Size\n"
          ]
        },
        {
          "output_type": "stream",
          "name": "stderr",
          "text": [
            "     84/100      9.33G       1.08       1.02      1.008        356        640: 100%|██████████| 44/44 [01:08<00:00,  1.55s/it]\n",
            "                 Class     Images  Instances      Box(P          R      mAP50  mAP50-95): 100%|██████████| 1/1 [00:00<00:00,  1.35it/s]"
          ]
        },
        {
          "output_type": "stream",
          "name": "stdout",
          "text": [
            "                   all         72        624      0.939      0.972      0.983      0.701\n"
          ]
        },
        {
          "output_type": "stream",
          "name": "stderr",
          "text": [
            "\n"
          ]
        },
        {
          "output_type": "stream",
          "name": "stdout",
          "text": [
            "\n",
            "      Epoch    GPU_mem   box_loss   cls_loss   dfl_loss  Instances       Size\n"
          ]
        },
        {
          "output_type": "stream",
          "name": "stderr",
          "text": [
            "     85/100      9.19G      1.079      1.019      1.016        300        640: 100%|██████████| 44/44 [01:08<00:00,  1.56s/it]\n",
            "                 Class     Images  Instances      Box(P          R      mAP50  mAP50-95): 100%|██████████| 1/1 [00:00<00:00,  1.13it/s]"
          ]
        },
        {
          "output_type": "stream",
          "name": "stdout",
          "text": [
            "                   all         72        624       0.94      0.973      0.982      0.704\n"
          ]
        },
        {
          "output_type": "stream",
          "name": "stderr",
          "text": [
            "\n"
          ]
        },
        {
          "output_type": "stream",
          "name": "stdout",
          "text": [
            "\n",
            "      Epoch    GPU_mem   box_loss   cls_loss   dfl_loss  Instances       Size\n"
          ]
        },
        {
          "output_type": "stream",
          "name": "stderr",
          "text": [
            "     86/100      9.32G      1.073      1.032      1.011        357        640: 100%|██████████| 44/44 [01:07<00:00,  1.54s/it]\n",
            "                 Class     Images  Instances      Box(P          R      mAP50  mAP50-95): 100%|██████████| 1/1 [00:01<00:00,  1.37s/it]"
          ]
        },
        {
          "output_type": "stream",
          "name": "stdout",
          "text": [
            "                   all         72        624      0.944       0.97      0.982      0.704\n"
          ]
        },
        {
          "output_type": "stream",
          "name": "stderr",
          "text": [
            "\n"
          ]
        },
        {
          "output_type": "stream",
          "name": "stdout",
          "text": [
            "\n",
            "      Epoch    GPU_mem   box_loss   cls_loss   dfl_loss  Instances       Size\n"
          ]
        },
        {
          "output_type": "stream",
          "name": "stderr",
          "text": [
            "     87/100       9.1G      1.075      1.041      1.012        383        640: 100%|██████████| 44/44 [01:09<00:00,  1.59s/it]\n",
            "                 Class     Images  Instances      Box(P          R      mAP50  mAP50-95): 100%|██████████| 1/1 [00:00<00:00,  1.23it/s]"
          ]
        },
        {
          "output_type": "stream",
          "name": "stdout",
          "text": [
            "                   all         72        624      0.935      0.969      0.979      0.706\n"
          ]
        },
        {
          "output_type": "stream",
          "name": "stderr",
          "text": [
            "\n"
          ]
        },
        {
          "output_type": "stream",
          "name": "stdout",
          "text": [
            "\n",
            "      Epoch    GPU_mem   box_loss   cls_loss   dfl_loss  Instances       Size\n"
          ]
        },
        {
          "output_type": "stream",
          "name": "stderr",
          "text": [
            "     88/100      9.36G      1.068      1.018      1.007        336        640: 100%|██████████| 44/44 [01:09<00:00,  1.57s/it]\n",
            "                 Class     Images  Instances      Box(P          R      mAP50  mAP50-95): 100%|██████████| 1/1 [00:00<00:00,  1.17it/s]"
          ]
        },
        {
          "output_type": "stream",
          "name": "stdout",
          "text": [
            "                   all         72        624      0.934      0.973      0.979      0.706\n"
          ]
        },
        {
          "output_type": "stream",
          "name": "stderr",
          "text": [
            "\n"
          ]
        },
        {
          "output_type": "stream",
          "name": "stdout",
          "text": [
            "\u001b[34m\u001b[1mUltralytics HUB: \u001b[0mUploading checkpoint https://hub.ultralytics.com/models/IXuE5VySRymfw8Nzqk58\n",
            "\n",
            "      Epoch    GPU_mem   box_loss   cls_loss   dfl_loss  Instances       Size\n"
          ]
        },
        {
          "output_type": "stream",
          "name": "stderr",
          "text": [
            "     89/100      9.07G      1.059      1.015      1.004        354        640: 100%|██████████| 44/44 [01:09<00:00,  1.59s/it]\n",
            "                 Class     Images  Instances      Box(P          R      mAP50  mAP50-95): 100%|██████████| 1/1 [00:01<00:00,  1.40s/it]"
          ]
        },
        {
          "output_type": "stream",
          "name": "stdout",
          "text": [
            "                   all         72        624      0.934      0.969       0.98      0.709\n"
          ]
        },
        {
          "output_type": "stream",
          "name": "stderr",
          "text": [
            "\n"
          ]
        },
        {
          "output_type": "stream",
          "name": "stdout",
          "text": [
            "\n",
            "      Epoch    GPU_mem   box_loss   cls_loss   dfl_loss  Instances       Size\n"
          ]
        },
        {
          "output_type": "stream",
          "name": "stderr",
          "text": [
            "     90/100       9.4G      1.061      1.019      1.004        363        640: 100%|██████████| 44/44 [01:09<00:00,  1.57s/it]\n",
            "                 Class     Images  Instances      Box(P          R      mAP50  mAP50-95): 100%|██████████| 1/1 [00:00<00:00,  1.33it/s]"
          ]
        },
        {
          "output_type": "stream",
          "name": "stdout",
          "text": [
            "                   all         72        624       0.94       0.97      0.982      0.713\n"
          ]
        },
        {
          "output_type": "stream",
          "name": "stderr",
          "text": [
            "\n"
          ]
        },
        {
          "output_type": "stream",
          "name": "stdout",
          "text": [
            "Closing dataloader mosaic\n",
            "\u001b[34m\u001b[1malbumentations: \u001b[0mBlur(p=0.01, blur_limit=(3, 7)), MedianBlur(p=0.01, blur_limit=(3, 7)), ToGray(p=0.01, num_output_channels=3, method='weighted_average'), CLAHE(p=0.01, clip_limit=(1.0, 4.0), tile_grid_size=(8, 8))\n",
            "\n",
            "      Epoch    GPU_mem   box_loss   cls_loss   dfl_loss  Instances       Size\n"
          ]
        },
        {
          "output_type": "stream",
          "name": "stderr",
          "text": [
            "     91/100      8.69G      1.063      1.015      1.019        205        640: 100%|██████████| 44/44 [01:09<00:00,  1.59s/it]\n",
            "                 Class     Images  Instances      Box(P          R      mAP50  mAP50-95): 100%|██████████| 1/1 [00:01<00:00,  1.18s/it]"
          ]
        },
        {
          "output_type": "stream",
          "name": "stdout",
          "text": [
            "                   all         72        624      0.939      0.977      0.981      0.697\n"
          ]
        },
        {
          "output_type": "stream",
          "name": "stderr",
          "text": [
            "\n"
          ]
        },
        {
          "output_type": "stream",
          "name": "stdout",
          "text": [
            "\n",
            "      Epoch    GPU_mem   box_loss   cls_loss   dfl_loss  Instances       Size\n"
          ]
        },
        {
          "output_type": "stream",
          "name": "stderr",
          "text": [
            "     92/100      8.69G      1.022     0.9912     0.9967        264        640: 100%|██████████| 44/44 [01:05<00:00,  1.50s/it]\n",
            "                 Class     Images  Instances      Box(P          R      mAP50  mAP50-95): 100%|██████████| 1/1 [00:01<00:00,  1.30s/it]"
          ]
        },
        {
          "output_type": "stream",
          "name": "stdout",
          "text": [
            "                   all         72        624      0.939      0.976      0.979      0.696\n"
          ]
        },
        {
          "output_type": "stream",
          "name": "stderr",
          "text": [
            "\n"
          ]
        },
        {
          "output_type": "stream",
          "name": "stdout",
          "text": [
            "\n",
            "      Epoch    GPU_mem   box_loss   cls_loss   dfl_loss  Instances       Size\n"
          ]
        },
        {
          "output_type": "stream",
          "name": "stderr",
          "text": [
            "     93/100      8.69G      1.009      0.986     0.9905        219        640: 100%|██████████| 44/44 [01:06<00:00,  1.52s/it]\n",
            "                 Class     Images  Instances      Box(P          R      mAP50  mAP50-95): 100%|██████████| 1/1 [00:01<00:00,  1.40s/it]"
          ]
        },
        {
          "output_type": "stream",
          "name": "stdout",
          "text": [
            "                   all         72        624      0.942      0.978      0.982      0.706\n"
          ]
        },
        {
          "output_type": "stream",
          "name": "stderr",
          "text": [
            "\n"
          ]
        },
        {
          "output_type": "stream",
          "name": "stdout",
          "text": [
            "\n",
            "      Epoch    GPU_mem   box_loss   cls_loss   dfl_loss  Instances       Size\n"
          ]
        },
        {
          "output_type": "stream",
          "name": "stderr",
          "text": [
            "     94/100      8.69G      1.003       0.98     0.9883        146        640: 100%|██████████| 44/44 [01:06<00:00,  1.51s/it]\n",
            "                 Class     Images  Instances      Box(P          R      mAP50  mAP50-95): 100%|██████████| 1/1 [00:01<00:00,  1.24s/it]"
          ]
        },
        {
          "output_type": "stream",
          "name": "stdout",
          "text": [
            "                   all         72        624      0.941       0.97      0.981      0.707\n"
          ]
        },
        {
          "output_type": "stream",
          "name": "stderr",
          "text": [
            "\n"
          ]
        },
        {
          "output_type": "stream",
          "name": "stdout",
          "text": [
            "\n",
            "      Epoch    GPU_mem   box_loss   cls_loss   dfl_loss  Instances       Size\n"
          ]
        },
        {
          "output_type": "stream",
          "name": "stderr",
          "text": [
            "     95/100      8.69G     0.9933     0.9832     0.9874        136        640: 100%|██████████| 44/44 [01:07<00:00,  1.54s/it]\n",
            "                 Class     Images  Instances      Box(P          R      mAP50  mAP50-95): 100%|██████████| 1/1 [00:00<00:00,  1.33it/s]"
          ]
        },
        {
          "output_type": "stream",
          "name": "stdout",
          "text": [
            "                   all         72        624      0.938      0.973      0.983      0.712\n"
          ]
        },
        {
          "output_type": "stream",
          "name": "stderr",
          "text": [
            "\n"
          ]
        },
        {
          "output_type": "stream",
          "name": "stdout",
          "text": [
            "\n",
            "      Epoch    GPU_mem   box_loss   cls_loss   dfl_loss  Instances       Size\n"
          ]
        },
        {
          "output_type": "stream",
          "name": "stderr",
          "text": [
            "     96/100      8.83G     0.9917     0.9834     0.9875        209        640: 100%|██████████| 44/44 [01:07<00:00,  1.54s/it]\n",
            "                 Class     Images  Instances      Box(P          R      mAP50  mAP50-95): 100%|██████████| 1/1 [00:00<00:00,  1.26it/s]"
          ]
        },
        {
          "output_type": "stream",
          "name": "stdout",
          "text": [
            "                   all         72        624      0.941       0.97      0.984      0.712\n"
          ]
        },
        {
          "output_type": "stream",
          "name": "stderr",
          "text": [
            "\n"
          ]
        },
        {
          "output_type": "stream",
          "name": "stdout",
          "text": [
            "\n",
            "      Epoch    GPU_mem   box_loss   cls_loss   dfl_loss  Instances       Size\n"
          ]
        },
        {
          "output_type": "stream",
          "name": "stderr",
          "text": [
            "     97/100      8.69G     0.9892     0.9718     0.9866        197        640: 100%|██████████| 44/44 [01:07<00:00,  1.54s/it]\n",
            "                 Class     Images  Instances      Box(P          R      mAP50  mAP50-95): 100%|██████████| 1/1 [00:00<00:00,  1.27it/s]"
          ]
        },
        {
          "output_type": "stream",
          "name": "stdout",
          "text": [
            "                   all         72        624      0.944      0.974      0.983      0.714\n"
          ]
        },
        {
          "output_type": "stream",
          "name": "stderr",
          "text": [
            "\n"
          ]
        },
        {
          "output_type": "stream",
          "name": "stdout",
          "text": [
            "\n",
            "      Epoch    GPU_mem   box_loss   cls_loss   dfl_loss  Instances       Size\n"
          ]
        },
        {
          "output_type": "stream",
          "name": "stderr",
          "text": [
            "     98/100      8.69G     0.9837     0.9754     0.9817        190        640: 100%|██████████| 44/44 [01:07<00:00,  1.54s/it]\n",
            "                 Class     Images  Instances      Box(P          R      mAP50  mAP50-95): 100%|██████████| 1/1 [00:00<00:00,  1.24it/s]"
          ]
        },
        {
          "output_type": "stream",
          "name": "stdout",
          "text": [
            "                   all         72        624      0.944      0.973      0.982      0.714\n"
          ]
        },
        {
          "output_type": "stream",
          "name": "stderr",
          "text": [
            "\n"
          ]
        },
        {
          "output_type": "stream",
          "name": "stdout",
          "text": [
            "\n",
            "      Epoch    GPU_mem   box_loss   cls_loss   dfl_loss  Instances       Size\n"
          ]
        },
        {
          "output_type": "stream",
          "name": "stderr",
          "text": [
            "     99/100      8.69G     0.9858     0.9784     0.9852        228        640: 100%|██████████| 44/44 [01:07<00:00,  1.53s/it]\n",
            "                 Class     Images  Instances      Box(P          R      mAP50  mAP50-95): 100%|██████████| 1/1 [00:00<00:00,  1.23it/s]"
          ]
        },
        {
          "output_type": "stream",
          "name": "stdout",
          "text": [
            "                   all         72        624      0.942      0.975      0.982      0.717\n"
          ]
        },
        {
          "output_type": "stream",
          "name": "stderr",
          "text": [
            "\n"
          ]
        },
        {
          "output_type": "stream",
          "name": "stdout",
          "text": [
            "\n",
            "      Epoch    GPU_mem   box_loss   cls_loss   dfl_loss  Instances       Size\n"
          ]
        },
        {
          "output_type": "stream",
          "name": "stderr",
          "text": [
            "    100/100      8.83G     0.9824     0.9877     0.9813        218        640: 100%|██████████| 44/44 [01:06<00:00,  1.52s/it]\n",
            "                 Class     Images  Instances      Box(P          R      mAP50  mAP50-95): 100%|██████████| 1/1 [00:00<00:00,  1.47it/s]"
          ]
        },
        {
          "output_type": "stream",
          "name": "stdout",
          "text": [
            "                   all         72        624      0.941      0.973      0.983      0.717\n"
          ]
        },
        {
          "output_type": "stream",
          "name": "stderr",
          "text": [
            "\n"
          ]
        },
        {
          "output_type": "stream",
          "name": "stdout",
          "text": [
            "\n",
            "100 epochs completed in 2.081 hours.\n",
            "Optimizer stripped from runs/detect/train/weights/last.pt, 5.5MB\n",
            "Optimizer stripped from runs/detect/train/weights/best.pt, 5.5MB\n",
            "\n",
            "Validating runs/detect/train/weights/best.pt...\n",
            "Ultralytics 8.3.43 🚀 Python-3.10.12 torch-2.5.1+cu121 CUDA:0 (Tesla T4, 15102MiB)\n",
            "YOLO11n summary (fused): 238 layers, 2,583,907 parameters, 0 gradients, 6.3 GFLOPs\n"
          ]
        },
        {
          "output_type": "stream",
          "name": "stderr",
          "text": [
            "                 Class     Images  Instances      Box(P          R      mAP50  mAP50-95): 100%|██████████| 1/1 [00:01<00:00,  1.18s/it]\n"
          ]
        },
        {
          "output_type": "stream",
          "name": "stdout",
          "text": [
            "                   all         72        624      0.941      0.973      0.983      0.717\n",
            "               thalami         72         72      0.993          1      0.995      0.868\n",
            "              midbrain         69         69       0.95      0.971      0.993      0.598\n",
            "                palate         67         67      0.928          1       0.99      0.868\n",
            "         4th_ventricle         60         60      0.931      0.897      0.946      0.498\n",
            "        cisterna_magna         69         69      0.942      0.946      0.989      0.598\n",
            "                    NT         72         72      0.993          1      0.995      0.828\n",
            "             nasal_tip         72         72      0.883      0.986      0.974      0.749\n",
            "            nasal_skin         72         72      0.947      0.987      0.993      0.746\n",
            "            nasal_bone         71         71      0.905      0.972      0.975      0.697\n",
            "Speed: 0.2ms preprocess, 2.1ms inference, 0.0ms loss, 2.0ms postprocess per image\n",
            "Results saved to \u001b[1mruns/detect/train\u001b[0m\n",
            "\u001b[34m\u001b[1mUltralytics HUB: \u001b[0mSyncing final model...\n"
          ]
        },
        {
          "output_type": "stream",
          "name": "stderr",
          "text": [
            "100%|██████████| 5.22M/5.22M [00:01<00:00, 5.15MB/s]"
          ]
        },
        {
          "output_type": "stream",
          "name": "stdout",
          "text": [
            "\u001b[34m\u001b[1mUltralytics HUB: \u001b[0mDone ✅\n",
            "\u001b[34m\u001b[1mUltralytics HUB: \u001b[0mView model at https://hub.ultralytics.com/models/IXuE5VySRymfw8Nzqk58 🚀\n"
          ]
        },
        {
          "output_type": "stream",
          "name": "stderr",
          "text": [
            "\n"
          ]
        }
      ],
      "source": [
        "# Login to HUB using your API key (https://hub.ultralytics.com/settings?tab=api+keys)\n",
        "\n",
        "hub.login('3598eac3f9f54ea9c0a1491e4b2c58025c025828e8')\n",
        "# Load your model from HUB (replace 'YOUR_MODEL_ID' with your model ID)\n",
        "model = YOLO('https://hub.ultralytics.com/models/IXuE5VySRymfw8Nzqk58')\n",
        "# Train the model\n",
        "results = model.train()"
      ]
    },
    {
      "cell_type": "code",
      "source": [
        "from ultralytics import YOLO\n",
        "\n",
        "# Load a model\n",
        "model = YOLO(\"yolo11n.pt\")  # load an official model\n",
        "model = YOLO(\"/content/runs/detect/train/weights/best.pt\")  # load a custom model\n",
        "\n",
        "# Validate the model\n",
        "metrics = model.val()  # no arguments needed, dataset and settings remembered\n",
        "metrics.box.map  # map50-95\n",
        "metrics.box.map50  # map50\n",
        "metrics.box.map75  # map75\n",
        "metrics.box.maps  # a list contains map50-95 of each category"
      ],
      "metadata": {
        "colab": {
          "base_uri": "https://localhost:8080/"
        },
        "id": "zqcttkX431D5",
        "outputId": "3626d80c-11b3-41e7-cc6a-2a011b1a8e1b"
      },
      "execution_count": 4,
      "outputs": [
        {
          "output_type": "stream",
          "name": "stdout",
          "text": [
            "Ultralytics 8.3.43 🚀 Python-3.10.12 torch-2.5.1+cu121 CUDA:0 (Tesla T4, 15102MiB)\n",
            "YOLO11n summary (fused): 238 layers, 2,583,907 parameters, 0 gradients, 6.3 GFLOPs\n"
          ]
        },
        {
          "output_type": "stream",
          "name": "stderr",
          "text": [
            "\u001b[34m\u001b[1mval: \u001b[0mScanning /content/datasets/fetusData/detect/labels/val.cache... 72 images, 0 backgrounds, 0 corrupt: 100%|██████████| 72/72 [00:00<?, ?it/s]\n",
            "                 Class     Images  Instances      Box(P          R      mAP50  mAP50-95): 100%|██████████| 5/5 [00:03<00:00,  1.46it/s]\n"
          ]
        },
        {
          "output_type": "stream",
          "name": "stdout",
          "text": [
            "                   all         72        624      0.947      0.972      0.986      0.719\n",
            "               thalami         72         72      0.993          1      0.995      0.865\n",
            "              midbrain         69         69      0.959      0.971      0.992      0.605\n",
            "                palate         67         67      0.928          1       0.99      0.875\n",
            "         4th_ventricle         60         60      0.929      0.875      0.951      0.494\n",
            "        cisterna_magna         69         69      0.951      0.942      0.989        0.6\n",
            "                    NT         72         72      0.994          1      0.995      0.832\n",
            "             nasal_tip         72         72        0.9          1      0.987      0.764\n",
            "            nasal_skin         72         72       0.95      0.986      0.993      0.735\n",
            "            nasal_bone         71         71      0.916      0.972      0.978      0.704\n",
            "Speed: 0.4ms preprocess, 16.4ms inference, 0.0ms loss, 6.2ms postprocess per image\n",
            "Results saved to \u001b[1mruns/detect/val\u001b[0m\n"
          ]
        },
        {
          "output_type": "execute_result",
          "data": {
            "text/plain": [
              "array([    0.86506,     0.60486,     0.87503,     0.49435,     0.59989,     0.83249,     0.76359,     0.73547,     0.70388])"
            ]
          },
          "metadata": {},
          "execution_count": 4
        }
      ]
    },
    {
      "cell_type": "code",
      "source": [
        "from ultralytics import YOLO\n",
        "\n",
        "# Load a model\n",
        "model = YOLO(\"yolo11n.pt\")  # load an official model\n",
        "model = YOLO(\"/content/runs/detect/train/weights/best.pt\")  # load a custom model\n",
        "\n",
        "# Predict with the model\n",
        "results = model(\"/content/datasets/fetusData/detect/images/actual_test\")  # predict on an image"
      ],
      "metadata": {
        "colab": {
          "base_uri": "https://localhost:8080/"
        },
        "id": "R4ftRuTT4R8A",
        "outputId": "c26de3f9-cbd4-48fc-a9cc-a9bfa720f8da"
      },
      "execution_count": 5,
      "outputs": [
        {
          "output_type": "stream",
          "name": "stdout",
          "text": [
            "\n",
            "image 1/72 /content/datasets/fetusData/detect/images/actual_test/1528.png: 480x640 1 thalami, 1 midbrain, 1 palate, 1 4th_ventricle, 1 cisterna_magna, 1 NT, 1 nasal_tip, 1 nasal_skin, 1 nasal_bone, 127.1ms\n",
            "image 2/72 /content/datasets/fetusData/detect/images/actual_test/1529.png: 480x640 1 thalami, 1 midbrain, 1 palate, 1 4th_ventricle, 1 cisterna_magna, 1 NT, 1 nasal_tip, 1 nasal_skin, 2 nasal_bones, 27.0ms\n",
            "image 3/72 /content/datasets/fetusData/detect/images/actual_test/1530.png: 512x640 1 thalami, 1 midbrain, 1 palate, 1 4th_ventricle, 1 cisterna_magna, 1 NT, 1 nasal_tip, 1 nasal_skin, 1 nasal_bone, 73.6ms\n",
            "image 4/72 /content/datasets/fetusData/detect/images/actual_test/1531.png: 480x640 1 thalami, 1 midbrain, 1 palate, 1 4th_ventricle, 1 cisterna_magna, 1 NT, 1 nasal_tip, 1 nasal_skin, 1 nasal_bone, 30.1ms\n",
            "image 5/72 /content/datasets/fetusData/detect/images/actual_test/1532.png: 480x640 1 thalami, 1 palate, 1 cisterna_magna, 1 NT, 1 nasal_tip, 1 nasal_skin, 1 nasal_bone, 28.0ms\n",
            "image 6/72 /content/datasets/fetusData/detect/images/actual_test/1533.png: 480x640 1 thalami, 1 midbrain, 1 palate, 1 4th_ventricle, 1 cisterna_magna, 1 NT, 1 nasal_tip, 1 nasal_skin, 1 nasal_bone, 11.8ms\n",
            "image 7/72 /content/datasets/fetusData/detect/images/actual_test/1534.png: 480x640 1 thalami, 1 midbrain, 1 palate, 1 4th_ventricle, 1 cisterna_magna, 1 NT, 1 nasal_tip, 1 nasal_skin, 1 nasal_bone, 8.8ms\n",
            "image 8/72 /content/datasets/fetusData/detect/images/actual_test/1535.png: 480x640 1 thalami, 1 midbrain, 1 palate, 1 4th_ventricle, 1 cisterna_magna, 1 NT, 1 nasal_tip, 1 nasal_skin, 1 nasal_bone, 9.1ms\n",
            "image 9/72 /content/datasets/fetusData/detect/images/actual_test/1536.png: 480x640 1 thalami, 1 midbrain, 1 palate, 1 4th_ventricle, 1 cisterna_magna, 1 NT, 2 nasal_tips, 1 nasal_skin, 1 nasal_bone, 11.8ms\n",
            "image 10/72 /content/datasets/fetusData/detect/images/actual_test/1537.png: 480x640 1 thalami, 1 midbrain, 1 palate, 1 4th_ventricle, 1 NT, 1 nasal_tip, 1 nasal_skin, 1 nasal_bone, 8.5ms\n",
            "image 11/72 /content/datasets/fetusData/detect/images/actual_test/1538.png: 448x640 1 thalami, 1 midbrain, 1 palate, 1 4th_ventricle, 1 cisterna_magna, 1 NT, 1 nasal_tip, 1 nasal_skin, 1 nasal_bone, 46.5ms\n",
            "image 12/72 /content/datasets/fetusData/detect/images/actual_test/1539.png: 544x640 1 thalami, 1 midbrain, 1 palate, 1 4th_ventricle, 1 cisterna_magna, 1 NT, 1 nasal_tip, 1 nasal_skin, 1 nasal_bone, 45.6ms\n",
            "image 13/72 /content/datasets/fetusData/detect/images/actual_test/1540.png: 512x640 1 thalami, 1 midbrain, 1 palate, 1 4th_ventricle, 1 cisterna_magna, 1 NT, 1 nasal_tip, 1 nasal_skin, 1 nasal_bone, 12.6ms\n",
            "image 14/72 /content/datasets/fetusData/detect/images/actual_test/1541.png: 448x640 1 thalami, 1 midbrain, 1 palate, 1 4th_ventricle, 1 cisterna_magna, 1 NT, 1 nasal_tip, 1 nasal_skin, 1 nasal_bone, 9.8ms\n",
            "image 15/72 /content/datasets/fetusData/detect/images/actual_test/1542.png: 512x640 1 thalami, 1 midbrain, 1 palate, 1 4th_ventricle, 1 cisterna_magna, 1 NT, 1 nasal_tip, 1 nasal_skin, 9.3ms\n",
            "image 16/72 /content/datasets/fetusData/detect/images/actual_test/1543.png: 480x640 1 thalami, 1 midbrain, 1 palate, 1 4th_ventricle, 1 cisterna_magna, 1 NT, 1 nasal_tip, 1 nasal_skin, 1 nasal_bone, 9.4ms\n",
            "image 17/72 /content/datasets/fetusData/detect/images/actual_test/1544.png: 480x640 1 thalami, 1 midbrain, 1 palate, 1 cisterna_magna, 1 NT, 1 nasal_tip, 1 nasal_skin, 1 nasal_bone, 8.9ms\n",
            "image 18/72 /content/datasets/fetusData/detect/images/actual_test/1545.png: 480x640 1 thalami, 1 midbrain, 1 palate, 1 4th_ventricle, 1 cisterna_magna, 1 NT, 1 nasal_tip, 1 nasal_skin, 1 nasal_bone, 8.6ms\n",
            "image 19/72 /content/datasets/fetusData/detect/images/actual_test/1546.png: 448x640 1 thalami, 1 palate, 1 cisterna_magna, 1 NT, 1 nasal_tip, 1 nasal_skin, 1 nasal_bone, 14.6ms\n",
            "image 20/72 /content/datasets/fetusData/detect/images/actual_test/1547.png: 448x640 1 thalami, 1 palate, 1 4th_ventricle, 1 cisterna_magna, 1 NT, 1 nasal_tip, 1 nasal_skin, 1 nasal_bone, 10.3ms\n",
            "image 21/72 /content/datasets/fetusData/detect/images/actual_test/1548.png: 448x640 1 thalami, 1 midbrain, 1 palate, 1 4th_ventricle, 1 cisterna_magna, 1 NT, 1 nasal_tip, 1 nasal_skin, 1 nasal_bone, 9.3ms\n",
            "image 22/72 /content/datasets/fetusData/detect/images/actual_test/1549.png: 448x640 1 thalami, 1 midbrain, 1 palate, 1 4th_ventricle, 1 cisterna_magna, 1 NT, 1 nasal_tip, 1 nasal_skin, 1 nasal_bone, 10.9ms\n",
            "image 23/72 /content/datasets/fetusData/detect/images/actual_test/1550.png: 480x640 1 thalami, 1 midbrain, 1 palate, 1 cisterna_magna, 1 NT, 1 nasal_tip, 1 nasal_skin, 1 nasal_bone, 9.3ms\n",
            "image 24/72 /content/datasets/fetusData/detect/images/actual_test/1551.png: 448x640 1 thalami, 1 palate, 1 NT, 1 nasal_tip, 1 nasal_skin, 1 nasal_bone, 9.5ms\n",
            "image 25/72 /content/datasets/fetusData/detect/images/actual_test/1552.png: 448x640 1 thalami, 1 midbrain, 1 palate, 1 4th_ventricle, 1 NT, 1 nasal_tip, 1 nasal_skin, 1 nasal_bone, 12.0ms\n",
            "image 26/72 /content/datasets/fetusData/detect/images/actual_test/1553.png: 480x640 1 thalami, 1 palate, 1 cisterna_magna, 1 NT, 1 nasal_tip, 1 nasal_skin, 1 nasal_bone, 12.8ms\n",
            "image 27/72 /content/datasets/fetusData/detect/images/actual_test/1554.png: 512x640 1 thalami, 1 midbrain, 1 palate, 1 NT, 1 nasal_tip, 1 nasal_skin, 1 nasal_bone, 9.6ms\n",
            "image 28/72 /content/datasets/fetusData/detect/images/actual_test/1555.png: 480x640 1 thalami, 1 midbrain, 1 palate, 1 4th_ventricle, 1 cisterna_magna, 1 NT, 1 nasal_tip, 1 nasal_skin, 2 nasal_bones, 9.5ms\n",
            "image 29/72 /content/datasets/fetusData/detect/images/actual_test/1556.png: 512x640 1 thalami, 1 midbrain, 1 palate, 1 4th_ventricle, 1 cisterna_magna, 1 NT, 1 nasal_tip, 1 nasal_skin, 1 nasal_bone, 15.8ms\n",
            "image 30/72 /content/datasets/fetusData/detect/images/actual_test/1557.png: 480x640 1 thalami, 1 midbrain, 1 palate, 1 4th_ventricle, 1 cisterna_magna, 1 NT, 1 nasal_tip, 1 nasal_skin, 1 nasal_bone, 16.4ms\n",
            "image 31/72 /content/datasets/fetusData/detect/images/actual_test/1558.png: 416x640 1 thalami, 1 midbrain, 1 palate, 1 4th_ventricle, 1 cisterna_magna, 1 NT, 1 nasal_tip, 1 nasal_skin, 1 nasal_bone, 76.8ms\n",
            "image 32/72 /content/datasets/fetusData/detect/images/actual_test/1559.png: 480x640 1 thalami, 1 midbrain, 1 cisterna_magna, 1 NT, 1 nasal_tip, 1 nasal_skin, 1 nasal_bone, 14.1ms\n",
            "image 33/72 /content/datasets/fetusData/detect/images/actual_test/1560.png: 512x640 1 thalami, 1 midbrain, 1 palate, 1 cisterna_magna, 1 NT, 1 nasal_tip, 1 nasal_skin, 1 nasal_bone, 14.3ms\n",
            "image 34/72 /content/datasets/fetusData/detect/images/actual_test/1561.png: 448x640 1 thalami, 1 midbrain, 1 palate, 1 4th_ventricle, 1 cisterna_magna, 1 NT, 1 nasal_tip, 1 nasal_skin, 1 nasal_bone, 32.1ms\n",
            "image 35/72 /content/datasets/fetusData/detect/images/actual_test/1562.png: 448x640 1 thalami, 1 midbrain, 1 palate, 1 cisterna_magna, 1 NT, 1 nasal_tip, 1 nasal_skin, 1 nasal_bone, 20.9ms\n",
            "image 36/72 /content/datasets/fetusData/detect/images/actual_test/1563.png: 448x640 1 thalami, 1 midbrain, 1 palate, 1 4th_ventricle, 1 cisterna_magna, 1 NT, 3 nasal_tips, 1 nasal_skin, 20.2ms\n",
            "image 37/72 /content/datasets/fetusData/detect/images/actual_test/1564.png: 480x640 1 thalami, 1 midbrain, 1 palate, 1 4th_ventricle, 1 cisterna_magna, 1 NT, 1 nasal_tip, 1 nasal_skin, 1 nasal_bone, 27.9ms\n",
            "image 38/72 /content/datasets/fetusData/detect/images/actual_test/1565.png: 480x640 1 thalami, 1 midbrain, 1 palate, 1 cisterna_magna, 1 NT, 1 nasal_tip, 1 nasal_skin, 1 nasal_bone, 19.3ms\n",
            "image 39/72 /content/datasets/fetusData/detect/images/actual_test/1566.png: 480x640 1 thalami, 1 midbrain, 1 palate, 1 cisterna_magna, 1 NT, 1 nasal_tip, 1 nasal_skin, 1 nasal_bone, 17.2ms\n",
            "image 40/72 /content/datasets/fetusData/detect/images/actual_test/1567.png: 512x640 1 thalami, 1 midbrain, 1 palate, 1 4th_ventricle, 1 cisterna_magna, 1 NT, 1 nasal_tip, 1 nasal_skin, 1 nasal_bone, 17.9ms\n",
            "image 41/72 /content/datasets/fetusData/detect/images/actual_test/1568.png: 480x640 1 thalami, 1 midbrain, 1 palate, 1 4th_ventricle, 1 cisterna_magna, 1 NT, 1 nasal_tip, 1 nasal_skin, 1 nasal_bone, 15.5ms\n",
            "image 42/72 /content/datasets/fetusData/detect/images/actual_test/1569.png: 544x640 1 thalami, 1 midbrain, 1 palate, 1 4th_ventricle, 1 cisterna_magna, 1 NT, 1 nasal_tip, 1 nasal_skin, 1 nasal_bone, 12.4ms\n",
            "image 43/72 /content/datasets/fetusData/detect/images/actual_test/1570.png: 480x640 1 thalami, 1 midbrain, 1 palate, 1 4th_ventricle, 1 NT, 1 nasal_tip, 1 nasal_skin, 1 nasal_bone, 12.4ms\n",
            "image 44/72 /content/datasets/fetusData/detect/images/actual_test/1571.png: 480x640 1 thalami, 1 midbrain, 1 palate, 1 cisterna_magna, 1 NT, 1 nasal_tip, 1 nasal_skin, 1 nasal_bone, 11.4ms\n",
            "image 45/72 /content/datasets/fetusData/detect/images/actual_test/1572.png: 448x640 1 thalami, 2 midbrains, 1 palate, 1 4th_ventricle, 1 cisterna_magna, 1 NT, 1 nasal_tip, 1 nasal_skin, 1 nasal_bone, 12.2ms\n",
            "image 46/72 /content/datasets/fetusData/detect/images/actual_test/1573.png: 352x640 1 thalami, 1 midbrain, 1 palate, 1 cisterna_magna, 1 NT, 1 nasal_tip, 1 nasal_skin, 1 nasal_bone, 79.4ms\n",
            "image 47/72 /content/datasets/fetusData/detect/images/actual_test/1574.png: 448x640 1 thalami, 1 midbrain, 1 palate, 1 4th_ventricle, 1 cisterna_magna, 1 NT, 1 nasal_tip, 1 nasal_skin, 1 nasal_bone, 13.6ms\n",
            "image 48/72 /content/datasets/fetusData/detect/images/actual_test/1575.png: 512x640 1 thalami, 1 midbrain, 1 palate, 1 4th_ventricle, 1 cisterna_magna, 1 NT, 1 nasal_tip, 1 nasal_skin, 1 nasal_bone, 13.9ms\n",
            "image 49/72 /content/datasets/fetusData/detect/images/actual_test/1576.png: 480x640 1 thalami, 1 midbrain, 1 palate, 1 4th_ventricle, 1 cisterna_magna, 1 NT, 1 nasal_tip, 1 nasal_skin, 1 nasal_bone, 14.6ms\n",
            "image 50/72 /content/datasets/fetusData/detect/images/actual_test/1577.png: 480x640 1 thalami, 1 midbrain, 1 palate, 1 4th_ventricle, 1 cisterna_magna, 1 NT, 1 nasal_tip, 1 nasal_skin, 1 nasal_bone, 13.0ms\n",
            "image 51/72 /content/datasets/fetusData/detect/images/actual_test/1578.png: 480x640 1 thalami, 1 midbrain, 1 palate, 1 4th_ventricle, 1 cisterna_magna, 1 NT, 1 nasal_tip, 1 nasal_skin, 1 nasal_bone, 17.5ms\n",
            "image 52/72 /content/datasets/fetusData/detect/images/actual_test/1579.png: 480x640 1 thalami, 1 midbrain, 1 palate, 1 cisterna_magna, 1 NT, 1 nasal_tip, 1 nasal_skin, 1 nasal_bone, 11.9ms\n",
            "image 53/72 /content/datasets/fetusData/detect/images/actual_test/1580.png: 480x640 1 thalami, 1 midbrain, 1 palate, 1 cisterna_magna, 1 NT, 1 nasal_tip, 1 nasal_skin, 1 nasal_bone, 11.4ms\n",
            "image 54/72 /content/datasets/fetusData/detect/images/actual_test/1581.png: 480x640 1 thalami, 1 midbrain, 1 palate, 1 4th_ventricle, 1 cisterna_magna, 1 NT, 2 nasal_tips, 1 nasal_skin, 1 nasal_bone, 11.8ms\n",
            "image 55/72 /content/datasets/fetusData/detect/images/actual_test/1582.png: 480x640 1 thalami, 1 midbrain, 1 palate, 1 4th_ventricle, 1 cisterna_magna, 1 NT, 1 nasal_tip, 1 nasal_skin, 1 nasal_bone, 12.3ms\n",
            "image 56/72 /content/datasets/fetusData/detect/images/actual_test/1583.png: 480x640 1 thalami, 1 midbrain, 1 palate, 1 4th_ventricle, 1 cisterna_magna, 1 NT, 1 nasal_tip, 1 nasal_skin, 1 nasal_bone, 27.5ms\n",
            "image 57/72 /content/datasets/fetusData/detect/images/actual_test/1584.png: 480x640 1 thalami, 1 midbrain, 1 palate, 1 4th_ventricle, 1 cisterna_magna, 1 NT, 1 nasal_tip, 1 nasal_skin, 1 nasal_bone, 21.6ms\n",
            "image 58/72 /content/datasets/fetusData/detect/images/actual_test/1585.png: 480x640 1 thalami, 1 midbrain, 1 palate, 1 4th_ventricle, 1 cisterna_magna, 1 NT, 1 nasal_tip, 1 nasal_skin, 1 nasal_bone, 13.7ms\n",
            "image 59/72 /content/datasets/fetusData/detect/images/actual_test/1586.png: 480x640 1 thalami, 1 midbrain, 1 palate, 1 4th_ventricle, 1 cisterna_magna, 1 NT, 1 nasal_tip, 1 nasal_skin, 1 nasal_bone, 17.1ms\n",
            "image 60/72 /content/datasets/fetusData/detect/images/actual_test/1587.png: 448x640 1 thalami, 1 midbrain, 1 palate, 1 4th_ventricle, 1 cisterna_magna, 1 NT, 1 nasal_tip, 1 nasal_skin, 1 nasal_bone, 14.2ms\n",
            "image 61/72 /content/datasets/fetusData/detect/images/actual_test/1588.png: 576x640 1 thalami, 1 midbrain, 1 palate, 1 cisterna_magna, 1 NT, 1 nasal_tip, 1 nasal_skin, 1 nasal_bone, 70.8ms\n",
            "image 62/72 /content/datasets/fetusData/detect/images/actual_test/1589.png: 480x640 1 thalami, 1 midbrain, 1 palate, 1 4th_ventricle, 1 cisterna_magna, 1 NT, 1 nasal_tip, 1 nasal_skin, 1 nasal_bone, 15.7ms\n",
            "image 63/72 /content/datasets/fetusData/detect/images/actual_test/1590.png: 480x640 1 thalami, 1 midbrain, 1 palate, 1 4th_ventricle, 1 cisterna_magna, 1 NT, 1 nasal_tip, 1 nasal_skin, 1 nasal_bone, 18.1ms\n",
            "image 64/72 /content/datasets/fetusData/detect/images/actual_test/1591.png: 544x640 1 thalami, 1 midbrain, 1 palate, 1 cisterna_magna, 1 NT, 1 nasal_tip, 1 nasal_skin, 1 nasal_bone, 20.6ms\n",
            "image 65/72 /content/datasets/fetusData/detect/images/actual_test/1592.png: 480x640 1 thalami, 1 midbrain, 1 palate, 1 cisterna_magna, 1 NT, 1 nasal_tip, 1 nasal_skin, 1 nasal_bone, 19.2ms\n",
            "image 66/72 /content/datasets/fetusData/detect/images/actual_test/1593.png: 512x640 1 thalami, 1 midbrain, 1 palate, 1 4th_ventricle, 1 NT, 1 nasal_tip, 1 nasal_skin, 1 nasal_bone, 13.9ms\n",
            "image 67/72 /content/datasets/fetusData/detect/images/actual_test/1594.png: 576x640 1 thalami, 1 midbrain, 1 palate, 1 4th_ventricle, 1 cisterna_magna, 1 NT, 1 nasal_tip, 1 nasal_skin, 1 nasal_bone, 18.2ms\n",
            "image 68/72 /content/datasets/fetusData/detect/images/actual_test/1595.png: 480x640 1 thalami, 1 midbrain, 1 palate, 1 cisterna_magna, 1 NT, 1 nasal_tip, 1 nasal_skin, 1 nasal_bone, 15.2ms\n",
            "image 69/72 /content/datasets/fetusData/detect/images/actual_test/1596.png: 480x640 1 thalami, 1 midbrain, 1 palate, 1 cisterna_magna, 1 NT, 1 nasal_tip, 1 nasal_skin, 1 nasal_bone, 16.6ms\n",
            "image 70/72 /content/datasets/fetusData/detect/images/actual_test/1597.png: 480x640 1 thalami, 1 midbrain, 1 palate, 1 4th_ventricle, 1 cisterna_magna, 1 NT, 1 nasal_tip, 1 nasal_skin, 1 nasal_bone, 11.6ms\n",
            "image 71/72 /content/datasets/fetusData/detect/images/actual_test/1598.png: 512x640 1 thalami, 1 midbrain, 1 palate, 1 4th_ventricle, 1 cisterna_magna, 1 NT, 1 nasal_tip, 1 nasal_skin, 1 nasal_bone, 15.7ms\n",
            "image 72/72 /content/datasets/fetusData/detect/images/actual_test/1599.png: 576x640 1 thalami, 1 midbrain, 1 palate, 1 cisterna_magna, 1 NT, 1 nasal_tip, 1 nasal_skin, 1 nasal_bone, 13.5ms\n",
            "Speed: 3.4ms preprocess, 20.7ms inference, 1.7ms postprocess per image at shape (1, 3, 576, 640)\n"
          ]
        }
      ]
    },
    {
      "cell_type": "code",
      "source": [
        "import os\n",
        "from ultralytics import YOLO\n",
        "from PIL import Image\n",
        "import matplotlib.pyplot as plt\n",
        "import matplotlib.patches as patches\n",
        "\n",
        "# Specify the test images folder and output folder\n",
        "test_images_folder = '/content/datasets/fetusData/detect/images/actual_test'  # Folder containing test images\n",
        "output_folder = '/content/datasets/fetusData/detect/images/actual_test_results'  # Folder to save the results\n",
        "# Ensure the output folder exists\n",
        "os.makedirs(output_folder, exist_ok=True)\n",
        "\n",
        "# Process each image in the test images folder\n",
        "for filename in os.listdir(test_images_folder):\n",
        "    if filename.endswith(('.png', '.jpg', '.jpeg')):  # Check for valid image formats\n",
        "        image_path = os.path.join(test_images_folder, filename)\n",
        "\n",
        "        # Perform inference\n",
        "        results = model.predict(source=image_path, conf=0.25)  # Adjust confidence threshold if needed\n",
        "        result = results[0]  # Access the first result for this image\n",
        "\n",
        "        # Open the image for visualization\n",
        "        image = Image.open(image_path).convert(\"RGB\")\n",
        "        plt.figure(figsize=(10, 10))\n",
        "        plt.imshow(image)\n",
        "        ax = plt.gca()\n",
        "\n",
        "        # Visualize the detections\n",
        "        if result.boxes is not None:  # Check if there are detections\n",
        "            for i, box in enumerate(result.boxes.xyxy):  # Iterate over bounding boxes\n",
        "                x1, y1, x2, y2 = box.tolist()  # Extract bounding box coordinates\n",
        "                conf = result.boxes.conf[i].item()  # Extract confidence score\n",
        "                cls = result.boxes.cls[i].item()  # Extract class ID\n",
        "                rect = patches.Rectangle((x1, y1), x2 - x1, y2 - y1, linewidth=2, edgecolor='r', facecolor='none')\n",
        "                ax.add_patch(rect)\n",
        "                class_name = result.names[int(cls)]  # Get class name\n",
        "                plt.text(x1, y1, f'{class_name} {conf:.2f}', color='black', fontsize=12,\n",
        "                         bbox=dict(facecolor='red', alpha=0.5))\n",
        "\n",
        "        plt.axis('off')\n",
        "\n",
        "        # Save the visualization\n",
        "        save_path = os.path.join(output_folder, f'result_{filename}')\n",
        "        plt.savefig(save_path)\n",
        "        plt.close()  # Close the figure to avoid overlaps in the next loop\n",
        ""
      ],
      "metadata": {
        "colab": {
          "base_uri": "https://localhost:8080/"
        },
        "id": "E_D6MyvR52ei",
        "outputId": "88478236-d79d-4801-cf1a-ee77d0e7bbc9"
      },
      "execution_count": 6,
      "outputs": [
        {
          "output_type": "stream",
          "name": "stdout",
          "text": [
            "\n",
            "image 1/1 /content/datasets/fetusData/detect/images/actual_test/1544.png: 480x640 1 thalami, 1 midbrain, 1 palate, 1 cisterna_magna, 1 NT, 1 nasal_tip, 1 nasal_skin, 1 nasal_bone, 11.2ms\n",
            "Speed: 2.4ms preprocess, 11.2ms inference, 1.6ms postprocess per image at shape (1, 3, 480, 640)\n",
            "\n",
            "image 1/1 /content/datasets/fetusData/detect/images/actual_test/1591.png: 544x640 1 thalami, 1 midbrain, 1 palate, 1 cisterna_magna, 1 NT, 1 nasal_tip, 1 nasal_skin, 1 nasal_bone, 10.4ms\n",
            "Speed: 2.3ms preprocess, 10.4ms inference, 1.4ms postprocess per image at shape (1, 3, 544, 640)\n",
            "\n",
            "image 1/1 /content/datasets/fetusData/detect/images/actual_test/1599.png: 576x640 1 thalami, 1 midbrain, 1 palate, 1 cisterna_magna, 1 NT, 1 nasal_tip, 1 nasal_skin, 1 nasal_bone, 10.2ms\n",
            "Speed: 2.3ms preprocess, 10.2ms inference, 1.3ms postprocess per image at shape (1, 3, 576, 640)\n",
            "\n",
            "image 1/1 /content/datasets/fetusData/detect/images/actual_test/1576.png: 480x640 1 thalami, 1 midbrain, 1 palate, 1 4th_ventricle, 1 cisterna_magna, 1 NT, 1 nasal_tip, 1 nasal_skin, 1 nasal_bone, 10.0ms\n",
            "Speed: 1.5ms preprocess, 10.0ms inference, 1.3ms postprocess per image at shape (1, 3, 480, 640)\n",
            "\n",
            "image 1/1 /content/datasets/fetusData/detect/images/actual_test/1595.png: 480x640 1 thalami, 1 midbrain, 1 palate, 1 cisterna_magna, 1 NT, 1 nasal_tip, 1 nasal_skin, 1 nasal_bone, 17.2ms\n",
            "Speed: 4.0ms preprocess, 17.2ms inference, 4.1ms postprocess per image at shape (1, 3, 480, 640)\n",
            "\n",
            "image 1/1 /content/datasets/fetusData/detect/images/actual_test/1562.png: 448x640 1 thalami, 1 midbrain, 1 palate, 1 cisterna_magna, 1 NT, 1 nasal_tip, 1 nasal_skin, 1 nasal_bone, 13.9ms\n",
            "Speed: 3.1ms preprocess, 13.9ms inference, 1.8ms postprocess per image at shape (1, 3, 448, 640)\n",
            "\n",
            "image 1/1 /content/datasets/fetusData/detect/images/actual_test/1554.png: 512x640 1 thalami, 1 midbrain, 1 palate, 1 NT, 1 nasal_tip, 1 nasal_skin, 1 nasal_bone, 13.4ms\n",
            "Speed: 4.8ms preprocess, 13.4ms inference, 1.6ms postprocess per image at shape (1, 3, 512, 640)\n",
            "\n",
            "image 1/1 /content/datasets/fetusData/detect/images/actual_test/1539.png: 544x640 1 thalami, 1 midbrain, 1 palate, 1 4th_ventricle, 1 cisterna_magna, 1 NT, 1 nasal_tip, 1 nasal_skin, 1 nasal_bone, 15.8ms\n",
            "Speed: 3.8ms preprocess, 15.8ms inference, 2.0ms postprocess per image at shape (1, 3, 544, 640)\n",
            "\n",
            "image 1/1 /content/datasets/fetusData/detect/images/actual_test/1545.png: 480x640 1 thalami, 1 midbrain, 1 palate, 1 4th_ventricle, 1 cisterna_magna, 1 NT, 1 nasal_tip, 1 nasal_skin, 1 nasal_bone, 13.0ms\n",
            "Speed: 3.3ms preprocess, 13.0ms inference, 1.6ms postprocess per image at shape (1, 3, 480, 640)\n",
            "\n",
            "image 1/1 /content/datasets/fetusData/detect/images/actual_test/1579.png: 480x640 1 thalami, 1 midbrain, 1 palate, 1 cisterna_magna, 1 NT, 1 nasal_tip, 1 nasal_skin, 1 nasal_bone, 15.6ms\n",
            "Speed: 2.1ms preprocess, 15.6ms inference, 1.9ms postprocess per image at shape (1, 3, 480, 640)\n",
            "\n",
            "image 1/1 /content/datasets/fetusData/detect/images/actual_test/1532.png: 480x640 1 thalami, 1 palate, 1 cisterna_magna, 1 NT, 1 nasal_tip, 1 nasal_skin, 1 nasal_bone, 14.5ms\n",
            "Speed: 3.5ms preprocess, 14.5ms inference, 1.9ms postprocess per image at shape (1, 3, 480, 640)\n",
            "\n",
            "image 1/1 /content/datasets/fetusData/detect/images/actual_test/1582.png: 480x640 1 thalami, 1 midbrain, 1 palate, 1 4th_ventricle, 1 cisterna_magna, 1 NT, 1 nasal_tip, 1 nasal_skin, 1 nasal_bone, 15.3ms\n",
            "Speed: 2.0ms preprocess, 15.3ms inference, 2.0ms postprocess per image at shape (1, 3, 480, 640)\n",
            "\n",
            "image 1/1 /content/datasets/fetusData/detect/images/actual_test/1558.png: 416x640 1 thalami, 1 midbrain, 1 palate, 1 4th_ventricle, 1 cisterna_magna, 1 NT, 1 nasal_tip, 1 nasal_skin, 1 nasal_bone, 16.1ms\n",
            "Speed: 3.1ms preprocess, 16.1ms inference, 1.9ms postprocess per image at shape (1, 3, 416, 640)\n",
            "\n",
            "image 1/1 /content/datasets/fetusData/detect/images/actual_test/1596.png: 480x640 1 thalami, 1 midbrain, 1 palate, 1 cisterna_magna, 1 NT, 1 nasal_tip, 1 nasal_skin, 1 nasal_bone, 16.4ms\n",
            "Speed: 1.9ms preprocess, 16.4ms inference, 1.9ms postprocess per image at shape (1, 3, 480, 640)\n",
            "\n",
            "image 1/1 /content/datasets/fetusData/detect/images/actual_test/1549.png: 448x640 1 thalami, 1 midbrain, 1 palate, 1 4th_ventricle, 1 cisterna_magna, 1 NT, 1 nasal_tip, 1 nasal_skin, 1 nasal_bone, 16.1ms\n",
            "Speed: 3.3ms preprocess, 16.1ms inference, 1.9ms postprocess per image at shape (1, 3, 448, 640)\n",
            "\n",
            "image 1/1 /content/datasets/fetusData/detect/images/actual_test/1597.png: 480x640 1 thalami, 1 midbrain, 1 palate, 1 4th_ventricle, 1 cisterna_magna, 1 NT, 1 nasal_tip, 1 nasal_skin, 1 nasal_bone, 18.3ms\n",
            "Speed: 2.0ms preprocess, 18.3ms inference, 2.3ms postprocess per image at shape (1, 3, 480, 640)\n",
            "\n",
            "image 1/1 /content/datasets/fetusData/detect/images/actual_test/1570.png: 480x640 1 thalami, 1 midbrain, 1 palate, 1 4th_ventricle, 1 NT, 1 nasal_tip, 1 nasal_skin, 1 nasal_bone, 16.0ms\n",
            "Speed: 3.7ms preprocess, 16.0ms inference, 2.0ms postprocess per image at shape (1, 3, 480, 640)\n",
            "\n",
            "image 1/1 /content/datasets/fetusData/detect/images/actual_test/1588.png: 576x640 1 thalami, 1 midbrain, 1 palate, 1 cisterna_magna, 1 NT, 1 nasal_tip, 1 nasal_skin, 1 nasal_bone, 17.4ms\n",
            "Speed: 5.0ms preprocess, 17.4ms inference, 2.1ms postprocess per image at shape (1, 3, 576, 640)\n",
            "\n",
            "image 1/1 /content/datasets/fetusData/detect/images/actual_test/1572.png: 448x640 1 thalami, 2 midbrains, 1 palate, 1 4th_ventricle, 1 cisterna_magna, 1 NT, 1 nasal_tip, 1 nasal_skin, 1 nasal_bone, 15.2ms\n",
            "Speed: 3.1ms preprocess, 15.2ms inference, 1.8ms postprocess per image at shape (1, 3, 448, 640)\n",
            "\n",
            "image 1/1 /content/datasets/fetusData/detect/images/actual_test/1568.png: 480x640 1 thalami, 1 midbrain, 1 palate, 1 4th_ventricle, 1 cisterna_magna, 1 NT, 1 nasal_tip, 1 nasal_skin, 1 nasal_bone, 21.1ms\n",
            "Speed: 5.3ms preprocess, 21.1ms inference, 2.1ms postprocess per image at shape (1, 3, 480, 640)\n",
            "\n",
            "image 1/1 /content/datasets/fetusData/detect/images/actual_test/1537.png: 480x640 1 thalami, 1 midbrain, 1 palate, 1 4th_ventricle, 1 NT, 1 nasal_tip, 1 nasal_skin, 1 nasal_bone, 14.4ms\n",
            "Speed: 3.6ms preprocess, 14.4ms inference, 1.9ms postprocess per image at shape (1, 3, 480, 640)\n",
            "\n",
            "image 1/1 /content/datasets/fetusData/detect/images/actual_test/1563.png: 448x640 1 thalami, 1 midbrain, 1 palate, 1 4th_ventricle, 1 cisterna_magna, 1 NT, 3 nasal_tips, 1 nasal_skin, 21.2ms\n",
            "Speed: 5.9ms preprocess, 21.2ms inference, 1.8ms postprocess per image at shape (1, 3, 448, 640)\n",
            "\n",
            "image 1/1 /content/datasets/fetusData/detect/images/actual_test/1529.png: 480x640 1 thalami, 1 midbrain, 1 palate, 1 4th_ventricle, 1 cisterna_magna, 1 NT, 1 nasal_tip, 1 nasal_skin, 2 nasal_bones, 10.3ms\n",
            "Speed: 2.2ms preprocess, 10.3ms inference, 1.3ms postprocess per image at shape (1, 3, 480, 640)\n",
            "\n",
            "image 1/1 /content/datasets/fetusData/detect/images/actual_test/1533.png: 480x640 1 thalami, 1 midbrain, 1 palate, 1 4th_ventricle, 1 cisterna_magna, 1 NT, 1 nasal_tip, 1 nasal_skin, 1 nasal_bone, 10.6ms\n",
            "Speed: 2.2ms preprocess, 10.6ms inference, 1.5ms postprocess per image at shape (1, 3, 480, 640)\n",
            "\n",
            "image 1/1 /content/datasets/fetusData/detect/images/actual_test/1552.png: 448x640 1 thalami, 1 midbrain, 1 palate, 1 4th_ventricle, 1 NT, 1 nasal_tip, 1 nasal_skin, 1 nasal_bone, 10.6ms\n",
            "Speed: 3.0ms preprocess, 10.6ms inference, 1.5ms postprocess per image at shape (1, 3, 448, 640)\n",
            "\n",
            "image 1/1 /content/datasets/fetusData/detect/images/actual_test/1564.png: 480x640 1 thalami, 1 midbrain, 1 palate, 1 4th_ventricle, 1 cisterna_magna, 1 NT, 1 nasal_tip, 1 nasal_skin, 1 nasal_bone, 13.5ms\n",
            "Speed: 2.2ms preprocess, 13.5ms inference, 1.8ms postprocess per image at shape (1, 3, 480, 640)\n",
            "\n",
            "image 1/1 /content/datasets/fetusData/detect/images/actual_test/1553.png: 480x640 1 thalami, 1 palate, 1 cisterna_magna, 1 NT, 1 nasal_tip, 1 nasal_skin, 1 nasal_bone, 9.2ms\n",
            "Speed: 2.2ms preprocess, 9.2ms inference, 1.3ms postprocess per image at shape (1, 3, 480, 640)\n",
            "\n",
            "image 1/1 /content/datasets/fetusData/detect/images/actual_test/1574.png: 448x640 1 thalami, 1 midbrain, 1 palate, 1 4th_ventricle, 1 cisterna_magna, 1 NT, 1 nasal_tip, 1 nasal_skin, 1 nasal_bone, 12.8ms\n",
            "Speed: 2.1ms preprocess, 12.8ms inference, 1.8ms postprocess per image at shape (1, 3, 448, 640)\n",
            "\n",
            "image 1/1 /content/datasets/fetusData/detect/images/actual_test/1583.png: 480x640 1 thalami, 1 midbrain, 1 palate, 1 4th_ventricle, 1 cisterna_magna, 1 NT, 1 nasal_tip, 1 nasal_skin, 1 nasal_bone, 9.6ms\n",
            "Speed: 2.3ms preprocess, 9.6ms inference, 1.3ms postprocess per image at shape (1, 3, 480, 640)\n",
            "\n",
            "image 1/1 /content/datasets/fetusData/detect/images/actual_test/1578.png: 480x640 1 thalami, 1 midbrain, 1 palate, 1 4th_ventricle, 1 cisterna_magna, 1 NT, 1 nasal_tip, 1 nasal_skin, 1 nasal_bone, 9.3ms\n",
            "Speed: 1.4ms preprocess, 9.3ms inference, 1.3ms postprocess per image at shape (1, 3, 480, 640)\n",
            "\n",
            "image 1/1 /content/datasets/fetusData/detect/images/actual_test/1589.png: 480x640 1 thalami, 1 midbrain, 1 palate, 1 4th_ventricle, 1 cisterna_magna, 1 NT, 1 nasal_tip, 1 nasal_skin, 1 nasal_bone, 9.3ms\n",
            "Speed: 2.2ms preprocess, 9.3ms inference, 1.6ms postprocess per image at shape (1, 3, 480, 640)\n",
            "\n",
            "image 1/1 /content/datasets/fetusData/detect/images/actual_test/1540.png: 512x640 1 thalami, 1 midbrain, 1 palate, 1 4th_ventricle, 1 cisterna_magna, 1 NT, 1 nasal_tip, 1 nasal_skin, 1 nasal_bone, 10.1ms\n",
            "Speed: 2.4ms preprocess, 10.1ms inference, 1.3ms postprocess per image at shape (1, 3, 512, 640)\n",
            "\n",
            "image 1/1 /content/datasets/fetusData/detect/images/actual_test/1547.png: 448x640 1 thalami, 1 palate, 1 4th_ventricle, 1 cisterna_magna, 1 NT, 1 nasal_tip, 1 nasal_skin, 1 nasal_bone, 9.7ms\n",
            "Speed: 2.2ms preprocess, 9.7ms inference, 1.3ms postprocess per image at shape (1, 3, 448, 640)\n",
            "\n",
            "image 1/1 /content/datasets/fetusData/detect/images/actual_test/1573.png: 352x640 1 thalami, 1 midbrain, 1 palate, 1 cisterna_magna, 1 NT, 1 nasal_tip, 1 nasal_skin, 1 nasal_bone, 9.9ms\n",
            "Speed: 1.6ms preprocess, 9.9ms inference, 1.3ms postprocess per image at shape (1, 3, 352, 640)\n",
            "\n",
            "image 1/1 /content/datasets/fetusData/detect/images/actual_test/1530.png: 512x640 1 thalami, 1 midbrain, 1 palate, 1 4th_ventricle, 1 cisterna_magna, 1 NT, 1 nasal_tip, 1 nasal_skin, 1 nasal_bone, 9.9ms\n",
            "Speed: 2.4ms preprocess, 9.9ms inference, 1.3ms postprocess per image at shape (1, 3, 512, 640)\n",
            "\n",
            "image 1/1 /content/datasets/fetusData/detect/images/actual_test/1535.png: 480x640 1 thalami, 1 midbrain, 1 palate, 1 4th_ventricle, 1 cisterna_magna, 1 NT, 1 nasal_tip, 1 nasal_skin, 1 nasal_bone, 10.2ms\n",
            "Speed: 2.2ms preprocess, 10.2ms inference, 1.3ms postprocess per image at shape (1, 3, 480, 640)\n",
            "\n",
            "image 1/1 /content/datasets/fetusData/detect/images/actual_test/1581.png: 480x640 1 thalami, 1 midbrain, 1 palate, 1 4th_ventricle, 1 cisterna_magna, 1 NT, 2 nasal_tips, 1 nasal_skin, 1 nasal_bone, 9.9ms\n",
            "Speed: 1.5ms preprocess, 9.9ms inference, 1.4ms postprocess per image at shape (1, 3, 480, 640)\n",
            "\n",
            "image 1/1 /content/datasets/fetusData/detect/images/actual_test/1569.png: 544x640 1 thalami, 1 midbrain, 1 palate, 1 4th_ventricle, 1 cisterna_magna, 1 NT, 1 nasal_tip, 1 nasal_skin, 1 nasal_bone, 15.6ms\n",
            "Speed: 3.5ms preprocess, 15.6ms inference, 1.9ms postprocess per image at shape (1, 3, 544, 640)\n",
            "\n",
            "image 1/1 /content/datasets/fetusData/detect/images/actual_test/1543.png: 480x640 1 thalami, 1 midbrain, 1 palate, 1 4th_ventricle, 1 cisterna_magna, 1 NT, 1 nasal_tip, 1 nasal_skin, 1 nasal_bone, 17.4ms\n",
            "Speed: 4.4ms preprocess, 17.4ms inference, 1.9ms postprocess per image at shape (1, 3, 480, 640)\n",
            "\n",
            "image 1/1 /content/datasets/fetusData/detect/images/actual_test/1556.png: 512x640 1 thalami, 1 midbrain, 1 palate, 1 4th_ventricle, 1 cisterna_magna, 1 NT, 1 nasal_tip, 1 nasal_skin, 1 nasal_bone, 14.8ms\n",
            "Speed: 3.5ms preprocess, 14.8ms inference, 1.9ms postprocess per image at shape (1, 3, 512, 640)\n",
            "\n",
            "image 1/1 /content/datasets/fetusData/detect/images/actual_test/1571.png: 480x640 1 thalami, 1 midbrain, 1 palate, 1 cisterna_magna, 1 NT, 1 nasal_tip, 1 nasal_skin, 1 nasal_bone, 18.0ms\n",
            "Speed: 3.2ms preprocess, 18.0ms inference, 2.0ms postprocess per image at shape (1, 3, 480, 640)\n",
            "\n",
            "image 1/1 /content/datasets/fetusData/detect/images/actual_test/1567.png: 512x640 1 thalami, 1 midbrain, 1 palate, 1 4th_ventricle, 1 cisterna_magna, 1 NT, 1 nasal_tip, 1 nasal_skin, 1 nasal_bone, 13.1ms\n",
            "Speed: 2.2ms preprocess, 13.1ms inference, 1.7ms postprocess per image at shape (1, 3, 512, 640)\n",
            "\n",
            "image 1/1 /content/datasets/fetusData/detect/images/actual_test/1575.png: 512x640 1 thalami, 1 midbrain, 1 palate, 1 4th_ventricle, 1 cisterna_magna, 1 NT, 1 nasal_tip, 1 nasal_skin, 1 nasal_bone, 9.3ms\n",
            "Speed: 2.3ms preprocess, 9.3ms inference, 1.4ms postprocess per image at shape (1, 3, 512, 640)\n",
            "\n",
            "image 1/1 /content/datasets/fetusData/detect/images/actual_test/1565.png: 480x640 1 thalami, 1 midbrain, 1 palate, 1 cisterna_magna, 1 NT, 1 nasal_tip, 1 nasal_skin, 1 nasal_bone, 10.3ms\n",
            "Speed: 2.3ms preprocess, 10.3ms inference, 1.4ms postprocess per image at shape (1, 3, 480, 640)\n",
            "\n",
            "image 1/1 /content/datasets/fetusData/detect/images/actual_test/1590.png: 480x640 1 thalami, 1 midbrain, 1 palate, 1 4th_ventricle, 1 cisterna_magna, 1 NT, 1 nasal_tip, 1 nasal_skin, 1 nasal_bone, 10.2ms\n",
            "Speed: 1.4ms preprocess, 10.2ms inference, 1.4ms postprocess per image at shape (1, 3, 480, 640)\n",
            "\n",
            "image 1/1 /content/datasets/fetusData/detect/images/actual_test/1594.png: 576x640 1 thalami, 1 midbrain, 1 palate, 1 4th_ventricle, 1 cisterna_magna, 1 NT, 1 nasal_tip, 1 nasal_skin, 1 nasal_bone, 10.2ms\n",
            "Speed: 2.3ms preprocess, 10.2ms inference, 1.3ms postprocess per image at shape (1, 3, 576, 640)\n",
            "\n",
            "image 1/1 /content/datasets/fetusData/detect/images/actual_test/1534.png: 480x640 1 thalami, 1 midbrain, 1 palate, 1 4th_ventricle, 1 cisterna_magna, 1 NT, 1 nasal_tip, 1 nasal_skin, 1 nasal_bone, 11.5ms\n",
            "Speed: 2.0ms preprocess, 11.5ms inference, 1.4ms postprocess per image at shape (1, 3, 480, 640)\n",
            "\n",
            "image 1/1 /content/datasets/fetusData/detect/images/actual_test/1584.png: 480x640 1 thalami, 1 midbrain, 1 palate, 1 4th_ventricle, 1 cisterna_magna, 1 NT, 1 nasal_tip, 1 nasal_skin, 1 nasal_bone, 9.4ms\n",
            "Speed: 2.2ms preprocess, 9.4ms inference, 1.4ms postprocess per image at shape (1, 3, 480, 640)\n",
            "\n",
            "image 1/1 /content/datasets/fetusData/detect/images/actual_test/1598.png: 512x640 1 thalami, 1 midbrain, 1 palate, 1 4th_ventricle, 1 cisterna_magna, 1 NT, 1 nasal_tip, 1 nasal_skin, 1 nasal_bone, 11.8ms\n",
            "Speed: 2.7ms preprocess, 11.8ms inference, 1.4ms postprocess per image at shape (1, 3, 512, 640)\n",
            "\n",
            "image 1/1 /content/datasets/fetusData/detect/images/actual_test/1541.png: 448x640 1 thalami, 1 midbrain, 1 palate, 1 4th_ventricle, 1 cisterna_magna, 1 NT, 1 nasal_tip, 1 nasal_skin, 1 nasal_bone, 10.4ms\n",
            "Speed: 2.0ms preprocess, 10.4ms inference, 1.4ms postprocess per image at shape (1, 3, 448, 640)\n",
            "\n",
            "image 1/1 /content/datasets/fetusData/detect/images/actual_test/1580.png: 480x640 1 thalami, 1 midbrain, 1 palate, 1 cisterna_magna, 1 NT, 1 nasal_tip, 1 nasal_skin, 1 nasal_bone, 10.3ms\n",
            "Speed: 1.4ms preprocess, 10.3ms inference, 1.3ms postprocess per image at shape (1, 3, 480, 640)\n",
            "\n",
            "image 1/1 /content/datasets/fetusData/detect/images/actual_test/1560.png: 512x640 1 thalami, 1 midbrain, 1 palate, 1 cisterna_magna, 1 NT, 1 nasal_tip, 1 nasal_skin, 1 nasal_bone, 11.8ms\n",
            "Speed: 2.5ms preprocess, 11.8ms inference, 1.3ms postprocess per image at shape (1, 3, 512, 640)\n",
            "\n",
            "image 1/1 /content/datasets/fetusData/detect/images/actual_test/1557.png: 480x640 1 thalami, 1 midbrain, 1 palate, 1 4th_ventricle, 1 cisterna_magna, 1 NT, 1 nasal_tip, 1 nasal_skin, 1 nasal_bone, 9.8ms\n",
            "Speed: 2.1ms preprocess, 9.8ms inference, 1.3ms postprocess per image at shape (1, 3, 480, 640)\n",
            "\n",
            "image 1/1 /content/datasets/fetusData/detect/images/actual_test/1548.png: 448x640 1 thalami, 1 midbrain, 1 palate, 1 4th_ventricle, 1 cisterna_magna, 1 NT, 1 nasal_tip, 1 nasal_skin, 1 nasal_bone, 9.9ms\n",
            "Speed: 2.0ms preprocess, 9.9ms inference, 1.3ms postprocess per image at shape (1, 3, 448, 640)\n",
            "\n",
            "image 1/1 /content/datasets/fetusData/detect/images/actual_test/1587.png: 448x640 1 thalami, 1 midbrain, 1 palate, 1 4th_ventricle, 1 cisterna_magna, 1 NT, 1 nasal_tip, 1 nasal_skin, 1 nasal_bone, 9.8ms\n",
            "Speed: 2.3ms preprocess, 9.8ms inference, 1.4ms postprocess per image at shape (1, 3, 448, 640)\n",
            "\n",
            "image 1/1 /content/datasets/fetusData/detect/images/actual_test/1542.png: 512x640 1 thalami, 1 midbrain, 1 palate, 1 4th_ventricle, 1 cisterna_magna, 1 NT, 1 nasal_tip, 1 nasal_skin, 10.0ms\n",
            "Speed: 2.2ms preprocess, 10.0ms inference, 1.3ms postprocess per image at shape (1, 3, 512, 640)\n",
            "\n",
            "image 1/1 /content/datasets/fetusData/detect/images/actual_test/1585.png: 480x640 1 thalami, 1 midbrain, 1 palate, 1 4th_ventricle, 1 cisterna_magna, 1 NT, 1 nasal_tip, 1 nasal_skin, 1 nasal_bone, 10.0ms\n",
            "Speed: 1.4ms preprocess, 10.0ms inference, 1.3ms postprocess per image at shape (1, 3, 480, 640)\n",
            "\n",
            "image 1/1 /content/datasets/fetusData/detect/images/actual_test/1586.png: 480x640 1 thalami, 1 midbrain, 1 palate, 1 4th_ventricle, 1 cisterna_magna, 1 NT, 1 nasal_tip, 1 nasal_skin, 1 nasal_bone, 9.4ms\n",
            "Speed: 2.1ms preprocess, 9.4ms inference, 1.3ms postprocess per image at shape (1, 3, 480, 640)\n",
            "\n",
            "image 1/1 /content/datasets/fetusData/detect/images/actual_test/1551.png: 448x640 1 thalami, 1 palate, 1 NT, 1 nasal_tip, 1 nasal_skin, 1 nasal_bone, 9.8ms\n",
            "Speed: 2.1ms preprocess, 9.8ms inference, 1.4ms postprocess per image at shape (1, 3, 448, 640)\n",
            "\n",
            "image 1/1 /content/datasets/fetusData/detect/images/actual_test/1531.png: 480x640 1 thalami, 1 midbrain, 1 palate, 1 4th_ventricle, 1 cisterna_magna, 1 NT, 1 nasal_tip, 1 nasal_skin, 1 nasal_bone, 9.8ms\n",
            "Speed: 2.1ms preprocess, 9.8ms inference, 1.3ms postprocess per image at shape (1, 3, 480, 640)\n",
            "\n",
            "image 1/1 /content/datasets/fetusData/detect/images/actual_test/1561.png: 448x640 1 thalami, 1 midbrain, 1 palate, 1 4th_ventricle, 1 cisterna_magna, 1 NT, 1 nasal_tip, 1 nasal_skin, 1 nasal_bone, 10.0ms\n",
            "Speed: 2.1ms preprocess, 10.0ms inference, 1.3ms postprocess per image at shape (1, 3, 448, 640)\n",
            "\n",
            "image 1/1 /content/datasets/fetusData/detect/images/actual_test/1555.png: 480x640 1 thalami, 1 midbrain, 1 palate, 1 4th_ventricle, 1 cisterna_magna, 1 NT, 1 nasal_tip, 1 nasal_skin, 2 nasal_bones, 9.8ms\n",
            "Speed: 2.3ms preprocess, 9.8ms inference, 1.3ms postprocess per image at shape (1, 3, 480, 640)\n",
            "\n",
            "image 1/1 /content/datasets/fetusData/detect/images/actual_test/1559.png: 480x640 1 thalami, 1 midbrain, 1 cisterna_magna, 1 NT, 1 nasal_tip, 1 nasal_skin, 1 nasal_bone, 9.8ms\n",
            "Speed: 2.3ms preprocess, 9.8ms inference, 1.6ms postprocess per image at shape (1, 3, 480, 640)\n",
            "\n",
            "image 1/1 /content/datasets/fetusData/detect/images/actual_test/1566.png: 480x640 1 thalami, 1 midbrain, 1 palate, 1 cisterna_magna, 1 NT, 1 nasal_tip, 1 nasal_skin, 1 nasal_bone, 10.0ms\n",
            "Speed: 3.1ms preprocess, 10.0ms inference, 1.4ms postprocess per image at shape (1, 3, 480, 640)\n",
            "\n",
            "image 1/1 /content/datasets/fetusData/detect/images/actual_test/1593.png: 512x640 1 thalami, 1 midbrain, 1 palate, 1 4th_ventricle, 1 NT, 1 nasal_tip, 1 nasal_skin, 1 nasal_bone, 10.1ms\n",
            "Speed: 2.3ms preprocess, 10.1ms inference, 1.3ms postprocess per image at shape (1, 3, 512, 640)\n",
            "\n",
            "image 1/1 /content/datasets/fetusData/detect/images/actual_test/1592.png: 480x640 1 thalami, 1 midbrain, 1 palate, 1 cisterna_magna, 1 NT, 1 nasal_tip, 1 nasal_skin, 1 nasal_bone, 10.3ms\n",
            "Speed: 1.4ms preprocess, 10.3ms inference, 1.4ms postprocess per image at shape (1, 3, 480, 640)\n",
            "\n",
            "image 1/1 /content/datasets/fetusData/detect/images/actual_test/1550.png: 480x640 1 thalami, 1 midbrain, 1 palate, 1 cisterna_magna, 1 NT, 1 nasal_tip, 1 nasal_skin, 1 nasal_bone, 9.3ms\n",
            "Speed: 2.0ms preprocess, 9.3ms inference, 1.3ms postprocess per image at shape (1, 3, 480, 640)\n",
            "\n",
            "image 1/1 /content/datasets/fetusData/detect/images/actual_test/1536.png: 480x640 1 thalami, 1 midbrain, 1 palate, 1 4th_ventricle, 1 cisterna_magna, 1 NT, 2 nasal_tips, 1 nasal_skin, 1 nasal_bone, 9.3ms\n",
            "Speed: 2.0ms preprocess, 9.3ms inference, 1.3ms postprocess per image at shape (1, 3, 480, 640)\n",
            "\n",
            "image 1/1 /content/datasets/fetusData/detect/images/actual_test/1577.png: 480x640 1 thalami, 1 midbrain, 1 palate, 1 4th_ventricle, 1 cisterna_magna, 1 NT, 1 nasal_tip, 1 nasal_skin, 1 nasal_bone, 9.5ms\n",
            "Speed: 2.2ms preprocess, 9.5ms inference, 1.4ms postprocess per image at shape (1, 3, 480, 640)\n",
            "\n",
            "image 1/1 /content/datasets/fetusData/detect/images/actual_test/1546.png: 448x640 1 thalami, 1 palate, 1 cisterna_magna, 1 NT, 1 nasal_tip, 1 nasal_skin, 1 nasal_bone, 10.5ms\n",
            "Speed: 2.2ms preprocess, 10.5ms inference, 1.3ms postprocess per image at shape (1, 3, 448, 640)\n",
            "\n",
            "image 1/1 /content/datasets/fetusData/detect/images/actual_test/1528.png: 480x640 1 thalami, 1 midbrain, 1 palate, 1 4th_ventricle, 1 cisterna_magna, 1 NT, 1 nasal_tip, 1 nasal_skin, 1 nasal_bone, 10.3ms\n",
            "Speed: 2.2ms preprocess, 10.3ms inference, 1.3ms postprocess per image at shape (1, 3, 480, 640)\n",
            "\n",
            "image 1/1 /content/datasets/fetusData/detect/images/actual_test/1538.png: 448x640 1 thalami, 1 midbrain, 1 palate, 1 4th_ventricle, 1 cisterna_magna, 1 NT, 1 nasal_tip, 1 nasal_skin, 1 nasal_bone, 10.3ms\n",
            "Speed: 2.1ms preprocess, 10.3ms inference, 1.4ms postprocess per image at shape (1, 3, 448, 640)\n"
          ]
        }
      ]
    },
    {
      "cell_type": "code",
      "source": [],
      "metadata": {
        "id": "fcF9YdnS5wat"
      },
      "execution_count": null,
      "outputs": []
    }
  ],
  "metadata": {
    "accelerator": "GPU",
    "colab": {
      "name": "Ultralytics HUB",
      "provenance": [],
      "include_colab_link": true
    },
    "kernelspec": {
      "display_name": "Python 3",
      "name": "python3"
    },
    "language_info": {
      "name": "python"
    }
  },
  "nbformat": 4,
  "nbformat_minor": 0
}